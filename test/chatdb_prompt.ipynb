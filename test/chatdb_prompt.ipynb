{
 "cells": [
  {
   "cell_type": "markdown",
   "source": [
    "### ChatDB的Prompt"
   ],
   "metadata": {
    "collapsed": false
   }
  },
  {
   "cell_type": "markdown",
   "source": [
    "chatdb.py的generate_chat_responses()，get_steps_from_response()，token限制和历史上下文没有拿过来"
   ],
   "metadata": {
    "collapsed": false
   }
  },
  {
   "cell_type": "code",
   "execution_count": 24,
   "outputs": [],
   "source": [
    "from langchain.prompts import PromptTemplate"
   ],
   "metadata": {
    "collapsed": false,
    "ExecuteTime": {
     "end_time": "2023-07-13T03:51:38.465360600Z",
     "start_time": "2023-07-13T03:51:38.444295600Z"
    }
   }
  },
  {
   "cell_type": "code",
   "execution_count": 25,
   "outputs": [],
   "source": [
    "\n",
    "\n",
    "tab_fruits = \"\"\"\n",
    "CREATE TABLE fruits (\n",
    "    fruit_id INTEGER PRIMARY KEY AUTO_INCREMENT,\n",
    "    fruit_name TEXT NOT NULL,\n",
    "    selling_price REAL,\n",
    "    stock_quantity INTEGER,\n",
    "    fruit_type TEXT,\n",
    "    shelf_life INTEGER\n",
    ");\n",
    "\"\"\"\n",
    "\n",
    "tab_customers = \"\"\"\n",
    "CREATE TABLE customers (\n",
    "    customer_id INTEGER PRIMARY KEY AUTO_INCREMENT,\n",
    "    first_name TEXT,\n",
    "    last_name TEXT,\n",
    "    phone_number TEXT,\n",
    "    email TEXT\n",
    ");\n",
    "\"\"\"\n",
    "\n",
    "tab_suppliers = \"\"\"\n",
    "CREATE TABLE suppliers (\n",
    "    supplier_id INTEGER PRIMARY KEY AUTO_INCREMENT,\n",
    "    supplier_name TEXT NOT NULL,\n",
    "    contact_number TEXT,\n",
    "    email TEXT\n",
    ");\n",
    "\"\"\"\n",
    "\n",
    "tab_sales = \"\"\"\n",
    "CREATE TABLE sales (\n",
    "    sale_id INTEGER PRIMARY KEY AUTO_INCREMENT,\n",
    "    customer_id INTEGER,\n",
    "    sale_date DATE,\n",
    "    total_price REAL,\n",
    "    FOREIGN KEY (customer_id) REFERENCES customers(customer_id)\n",
    ");\n",
    "\"\"\"\n",
    "\n",
    "tab_sale_items = \"\"\"\n",
    "CREATE TABLE sale_items (\n",
    "    sale_item_id INTEGER PRIMARY KEY AUTO_INCREMENT,\n",
    "    sale_id INTEGER NOT NULL,\n",
    "    fruit_id INTEGER NOT NULL,\n",
    "    quantity_sold INTEGER,\n",
    "    price_per_item REAL,\n",
    "    item_total_price REAL,\n",
    "    FOREIGN KEY (sale_id) REFERENCES sales(sale_id),\n",
    "    FOREIGN KEY (fruit_id) REFERENCES fruits(fruit_id)\n",
    ");\n",
    "\"\"\"\n",
    "\n",
    "tab_purchases = \"\"\"\n",
    "CREATE TABLE purchases (\n",
    "    purchase_id INTEGER PRIMARY KEY AUTO_INCREMENT,\n",
    "    supplier_id INTEGER NOT NULL,\n",
    "    purchase_date DATE,\n",
    "    total_cost REAL,\n",
    "    FOREIGN KEY (supplier_id) REFERENCES suppliers(supplier_id)\n",
    ");\n",
    "\"\"\"\n",
    "\n",
    "tab_purchase_items = \"\"\"\n",
    "CREATE TABLE purchase_items (\n",
    "    purchase_item_id INTEGER PRIMARY KEY AUTO_INCREMENT,\n",
    "    purchase_id INTEGER NOT NULL,\n",
    "    fruit_id INTEGER NOT NULL,\n",
    "    quantity_purchased INTEGER,\n",
    "    cost_per_item REAL,\n",
    "    item_total_cost REAL,\n",
    "    FOREIGN KEY (purchase_id) REFERENCES purchases(purchase_id),\n",
    "    FOREIGN KEY (fruit_id) REFERENCES fruits(fruit_id)\n",
    ");\n",
    "\"\"\"\n",
    "\n",
    "tables = [tab_fruits, tab_customers, tab_suppliers, tab_sales, tab_sale_items, tab_purchases, tab_purchase_items]\n"
   ],
   "metadata": {
    "collapsed": false,
    "ExecuteTime": {
     "end_time": "2023-07-13T03:51:38.487226700Z",
     "start_time": "2023-07-13T03:51:38.452296300Z"
    }
   }
  },
  {
   "cell_type": "code",
   "execution_count": 26,
   "outputs": [],
   "source": [
    "import re\n",
    "\n",
    "\n",
    "def get_table_info(create_table_sql):\n",
    "    # Regex to match 'CREATE TABLE' followed by the table name\n",
    "    pattern = r\"CREATE TABLE (\\w+)\"\n",
    "    match = re.search(pattern, create_table_sql, re.IGNORECASE)\n",
    "    table_name = match.group(1)\n",
    "\n",
    "    # Regex to match the column definitions starting with a lowercase letter\n",
    "    # This pattern matches a word at the start of the line, followed by a space, followed by another word\n",
    "    pattern = r\"^\\s*([a-z]\\w*)\\s+(\\w+)\"\n",
    "    matches = re.findall(pattern, create_table_sql, re.MULTILINE)\n",
    "\n",
    "    # The matches list now contains tuples with the column name and data type\n",
    "    column_names = []\n",
    "    column_types = []\n",
    "    for column_name, data_type in matches:\n",
    "        column_names.append(column_name)\n",
    "        column_types.append(data_type)\n",
    "\n",
    "    return table_name, column_names, column_types\n",
    "\n",
    "\n",
    "def get_database_info(tables):\n",
    "    database_info = dict()\n",
    "    for tab in tables:\n",
    "        table_name, column_names, column_types = get_table_info(tab)\n",
    "        database_info[table_name] = {\n",
    "            \"column_names\": column_names,\n",
    "            \"column_types\": column_types,\n",
    "        }\n",
    "    return database_info\n",
    "\n",
    "\n",
    "database_info = get_database_info(tables)\n",
    "table_details = \"\\n\".join(tables)"
   ],
   "metadata": {
    "collapsed": false,
    "ExecuteTime": {
     "end_time": "2023-07-13T03:51:38.487226700Z",
     "start_time": "2023-07-13T03:51:38.469381400Z"
    }
   }
  },
  {
   "cell_type": "code",
   "execution_count": 27,
   "metadata": {
    "collapsed": true,
    "ExecuteTime": {
     "end_time": "2023-07-13T03:51:38.497235200Z",
     "start_time": "2023-07-13T03:51:38.484226500Z"
    }
   },
   "outputs": [],
   "source": [
    "def init_system_msg():\n",
    "    sys_temp = \"\"\"\n",
    "You are ChatDB, a powerful AI assistant, a variant of ChatGPT that can utilize databases as external symbolic memory. \\\n",
    "You are an expert in databases, proficient in SQL statements and can use the database to help users. \\\n",
    "The details of tables in the database are delimited by triple quotes.\n",
    "\\\"\\\"\\\"\n",
    "{table_details}\n",
    "\\\"\\\"\\\"\n",
    "\"\"\"\n",
    "    sys_prompt = PromptTemplate(\n",
    "        template=sys_temp,\n",
    "        input_variables=[],\n",
    "        partial_variables={\"table_details\": table_details, }\n",
    "    )\n",
    "    sys_prompt_str = sys_prompt.format()\n",
    "    return sys_prompt_str"
   ]
  },
  {
   "cell_type": "code",
   "execution_count": 28,
   "outputs": [
    {
     "data": {
      "text/plain": "'\\nYou are ChatDB, a powerful AI assistant, a variant of ChatGPT that can utilize databases as external symbolic memory. You are an expert in databases, proficient in SQL statements and can use the database to help users. The details of tables in the database are delimited by triple quotes.\\n\"\"\"\\n\\nCREATE TABLE fruits (\\n    fruit_id INTEGER PRIMARY KEY AUTO_INCREMENT,\\n    fruit_name TEXT NOT NULL,\\n    selling_price REAL,\\n    stock_quantity INTEGER,\\n    fruit_type TEXT,\\n    shelf_life INTEGER\\n);\\n\\n\\nCREATE TABLE customers (\\n    customer_id INTEGER PRIMARY KEY AUTO_INCREMENT,\\n    first_name TEXT,\\n    last_name TEXT,\\n    phone_number TEXT,\\n    email TEXT\\n);\\n\\n\\nCREATE TABLE suppliers (\\n    supplier_id INTEGER PRIMARY KEY AUTO_INCREMENT,\\n    supplier_name TEXT NOT NULL,\\n    contact_number TEXT,\\n    email TEXT\\n);\\n\\n\\nCREATE TABLE sales (\\n    sale_id INTEGER PRIMARY KEY AUTO_INCREMENT,\\n    customer_id INTEGER,\\n    sale_date DATE,\\n    total_price REAL,\\n    FOREIGN KEY (customer_id) REFERENCES customers(customer_id)\\n);\\n\\n\\nCREATE TABLE sale_items (\\n    sale_item_id INTEGER PRIMARY KEY AUTO_INCREMENT,\\n    sale_id INTEGER NOT NULL,\\n    fruit_id INTEGER NOT NULL,\\n    quantity_sold INTEGER,\\n    price_per_item REAL,\\n    item_total_price REAL,\\n    FOREIGN KEY (sale_id) REFERENCES sales(sale_id),\\n    FOREIGN KEY (fruit_id) REFERENCES fruits(fruit_id)\\n);\\n\\n\\nCREATE TABLE purchases (\\n    purchase_id INTEGER PRIMARY KEY AUTO_INCREMENT,\\n    supplier_id INTEGER NOT NULL,\\n    purchase_date DATE,\\n    total_cost REAL,\\n    FOREIGN KEY (supplier_id) REFERENCES suppliers(supplier_id)\\n);\\n\\n\\nCREATE TABLE purchase_items (\\n    purchase_item_id INTEGER PRIMARY KEY AUTO_INCREMENT,\\n    purchase_id INTEGER NOT NULL,\\n    fruit_id INTEGER NOT NULL,\\n    quantity_purchased INTEGER,\\n    cost_per_item REAL,\\n    item_total_cost REAL,\\n    FOREIGN KEY (purchase_id) REFERENCES purchases(purchase_id),\\n    FOREIGN KEY (fruit_id) REFERENCES fruits(fruit_id)\\n);\\n\\n\"\"\"\\n'"
     },
     "execution_count": 28,
     "metadata": {},
     "output_type": "execute_result"
    }
   ],
   "source": [
    "sys_prompt = init_system_msg()\n",
    "sys_prompt"
   ],
   "metadata": {
    "collapsed": false,
    "ExecuteTime": {
     "end_time": "2023-07-13T03:51:38.542321300Z",
     "start_time": "2023-07-13T03:51:38.498241Z"
    }
   }
  },
  {
   "cell_type": "code",
   "execution_count": 29,
   "outputs": [],
   "source": [
    "eg_purchase = \"\"\"\n",
    "USER INPUT: On 2023-01-22, the shop purchased 100kg banana from supplier 'ABC' (contact number: 67543, email: abc_sup@gmail.com) at 1.2 dollar/kg and planed sell at 1.8 dollar/kg. Banana's fruit type is berry and shelf life is 15 days.\n",
    "ANSWER:\n",
    "```\n",
    "Step1: Insert supplier 'ABC' if not exists\n",
    "`INSERT INTO suppliers (supplier_name, contact_number, email)\n",
    "SELECT 'ABC', '67543', 'abc_sup@gmail.com'\n",
    "WHERE NOT EXISTS (SELECT 1 FROM suppliers WHERE supplier_name = 'ABC');`\n",
    "\n",
    "Step2: Insert fruit (set the selling price to NULL and stock quantity to 0) if not exists\n",
    "`INSERT INTO fruits (fruit_name, selling_price, stock_quantity, fruit_type, shelf_life)\n",
    "SELECT 'banana', NULL, 0, 'berry', 15\n",
    "WHERE NOT EXISTS (SELECT 1 FROM fruits WHERE fruit_name = 'banana');`\n",
    "\n",
    "Step3: Insert purchase\n",
    "`INSERT INTO purchases (supplier_id, purchase_date, total_cost)\n",
    "VALUES ((SELECT supplier_id FROM suppliers WHERE supplier_name = 'ABC'), '2023-01-22', 100 * 1.2);`\n",
    "\n",
    "Step4: Insert purchase item\n",
    "`INSERT INTO purchase_items (purchase_id, fruit_id, quantity_purchased, cost_per_item, item_total_cost)\n",
    "VALUES ((SELECT MAX(purchase_id) FROM purchases), (SELECT fruit_id FROM fruits WHERE fruit_name = 'banana'), 100, 1.2, 100 * 1.2);`\n",
    "\n",
    "Step5: Update the stock quantity of banana\n",
    "`UPDATE fruits\n",
    "SET stock_quantity = stock_quantity + 100\n",
    "WHERE fruit_name = 'banana';`\n",
    "\n",
    "Step6: Update the selling price of banana if given new selling price\n",
    "`UPDATE fruits\n",
    "SET selling_price = 1.8\n",
    "WHERE fruit_name = 'banana';`\n",
    "```\n",
    "\"\"\"\n",
    "\n",
    "eg_ask_sale = \"\"\"\n",
    "USER INPUT: Who bought 100kg apple on 2010-03-27 and what is he/she name, detailed information and costumer id?\n",
    "ANSWER:\n",
    "```\n",
    "Step1: Retrieve the customer information who made the purchase\n",
    "`SELECT c.customer_id, c.first_name, c.last_name, c.phone_number, c.email\n",
    "FROM customers c\n",
    "JOIN sales s ON c.customer_id = s.customer_id\n",
    "JOIN sale_items si ON s.sale_id = si.sale_id\n",
    "JOIN fruits f ON si.fruit_id = f.fruit_id\n",
    "WHERE f.fruit_name = 'apple' AND si.quantity_sold = 100 AND s.sale_date = '2010-03-27';`\n",
    "```\n",
    "\"\"\"\n",
    "\n",
    "eg_if_new_customer_sale = \"\"\"\n",
    "USER INPUT: A customer named 'Chenzhuang Du' with a phone number as 120056 and e-mail as chenzhuang@gmail.com bought 10kg apple and 5kg pear on 2010-03-27.\n",
    "ANSWER:\n",
    "```\n",
    "Step1: Insert customer 'Chenzhuang Du' if not exists\n",
    "`INSERT INTO customers (first_name, last_name, phone_number, email)\n",
    "SELECT 'Chenzhuang', 'Du', '120056', 'chenzhuang@gmail.com'\n",
    "WHERE NOT EXISTS (SELECT 1 FROM customers WHERE phone_number = '120056');`\n",
    "\n",
    "Step2: Insert sale\n",
    "`INSERT INTO sales (customer_id, sale_date, total_price)\n",
    "VALUES ((SELECT customer_id FROM customers WHERE phone_number = '120056'), '2010-03-27', (SELECT selling_price FROM fruits WHERE fruit_name = 'apple') * 10 + (SELECT selling_price FROM fruits WHERE fruit_name = 'pear') * 5);`\n",
    "\n",
    "Step3: Insert sale item\n",
    "`INSERT INTO sale_items (sale_id, fruit_id, quantity_sold, price_per_item, item_total_price)\n",
    "VALUES ((SELECT MAX(sale_id) FROM sales), (SELECT fruit_id FROM fruits WHERE fruit_name = 'apple'), 10, (SELECT selling_price FROM fruits WHERE fruit_name = 'apple'), (SELECT selling_price FROM fruits WHERE fruit_name = 'apple') * 10),\n",
    "((SELECT MAX(sale_id) FROM sales), (SELECT fruit_id FROM fruits WHERE fruit_name = 'pear'), 5, (SELECT selling_price FROM fruits WHERE fruit_name = 'pear'), (SELECT selling_price FROM fruits WHERE fruit_name = 'pear') * 5);`\n",
    "\n",
    "Step4: Update the stock quantity of apple and pear\n",
    "`UPDATE fruits\n",
    "SET stock_quantity = CASE\n",
    "    WHEN fruit_name = 'apple' THEN stock_quantity - 10\n",
    "    WHEN fruit_name = 'pear' THEN stock_quantity - 5\n",
    "    ELSE stock_quantity\n",
    "END\n",
    "WHERE fruit_name IN ('apple', 'pear');`\n",
    "```\n",
    "\"\"\"\n",
    "\n",
    "eg_delete_pro = \"\"\"\n",
    "USER INPUT: Because the customer returned the goods, roll back a sales record which is made by the customer with customer id as 8 on 2023-01-29.\n",
    "ANSWER:\n",
    "```\n",
    "Step1: Find the sale_id for this customer on this date\n",
    "`SELECT sale_id FROM sales WHERE customer_id = 8 AND sale_date = '2023-01-29';`\n",
    "\n",
    "Step2: Get all the fruit_id and quantity_sold for this sale, replace <sale_id> with the results from the previous queries\n",
    "`SELECT fruit_id, quantity_sold FROM sale_items WHERE sale_id = <sale_id>;`\n",
    "\n",
    "Step3: Increase the stock_quantity for each fruit sold in this sale, replace <quantity_sold> <fruit_id> with the results from the previous queries\n",
    "`UPDATE fruits\n",
    "SET stock_quantity = stock_quantity + <quantity_sold>\n",
    "WHERE fruit_id = <fruit_id>;`\n",
    "\n",
    "Step4: Delete the sale items for this sale, replace <sale_id> with the results from the previous queries\n",
    "`DELETE FROM sale_items WHERE sale_id = <sale_id>;`\n",
    "\n",
    "Step5: Delete the sale record, replace <sale_id> with the results from the previous queries\n",
    "`DELETE FROM sales WHERE sale_id = <sale_id>;`\n",
    "```\n",
    "\"\"\"\n",
    "\n",
    "\n",
    "egs = [eg_ask_sale, eg_purchase, eg_if_new_customer_sale, eg_delete_pro]"
   ],
   "metadata": {
    "collapsed": false,
    "ExecuteTime": {
     "end_time": "2023-07-13T03:51:38.551219900Z",
     "start_time": "2023-07-13T03:51:38.515799200Z"
    }
   }
  },
  {
   "cell_type": "code",
   "execution_count": 30,
   "outputs": [],
   "source": [
    "prompt_ask_steps_temp = \"\"\"\n",
    "Please tell me what standard SQL statements should I use in order to respond to the \"USER INPUT\". \\\n",
    "If it needs multiple SQL operations on the database, please list them step by step concisely. \\\n",
    "If there is no need to use the database, reply to the \"USER INPUT\" directly.\n",
    "The output should be a markdown code snippet formatted in the following schema, \\\n",
    "including the leading and trailing \"\\`\\`\\`\" and \"\\`\\`\\`\":\n",
    "```\n",
    "Step1: <Description of first step>\n",
    "SQL command for step1\n",
    "\n",
    "Step2: <Description of second step>\n",
    "SQL command for step2\n",
    "\n",
    "......\n",
    "```\n",
    "Here are some examples:\n",
    "{egs}\n",
    "\n",
    "USER INPUT: {user_inp}\n",
    "ANSWER:\n",
    "\"\"\"\n",
    "\n",
    "prompt_ask_steps = PromptTemplate(\n",
    "        template=prompt_ask_steps_temp,\n",
    "        input_variables=[\"user_inp\"],\n",
    "        partial_variables={\n",
    "            \"egs\": '\\n'.join(egs),\n",
    "        }\n",
    "    )\n",
    "\n",
    "prompt_ask_steps_no_egs = PromptTemplate(\n",
    "        template=prompt_ask_steps_temp,\n",
    "        input_variables=[\"user_inp\"],\n",
    "        partial_variables={\n",
    "            \"egs\": \"\"\n",
    "        }\n",
    "    )"
   ],
   "metadata": {
    "collapsed": false,
    "ExecuteTime": {
     "end_time": "2023-07-13T03:51:38.551219900Z",
     "start_time": "2023-07-13T03:51:38.529308500Z"
    }
   }
  },
  {
   "cell_type": "code",
   "execution_count": 40,
   "outputs": [
    {
     "data": {
      "text/plain": "'\\nPlease tell me what standard SQL statements should I use in order to respond to the \"USER INPUT\". If it needs multiple SQL operations on the database, please list them step by step concisely. If there is no need to use the database, reply to the \"USER INPUT\" directly.\\nThe output should be a markdown code snippet formatted in the following schema, including the leading and trailing \"\\\\`\\\\`\\\\`\" and \"\\\\`\\\\`\\\\`\":\\n```\\nStep1: <Description of first step>\\nSQL command for step1\\n\\nStep2: <Description of second step>\\nSQL command for step2\\n\\n......\\n```\\nHere are some examples:\\n\\nUSER INPUT: Who bought 100kg apple on 2010-03-27 and what is he/she name, detailed information and costumer id?\\nANSWER:\\n```\\nStep1: Retrieve the customer information who made the purchase\\n`SELECT c.customer_id, c.first_name, c.last_name, c.phone_number, c.email\\nFROM customers c\\nJOIN sales s ON c.customer_id = s.customer_id\\nJOIN sale_items si ON s.sale_id = si.sale_id\\nJOIN fruits f ON si.fruit_id = f.fruit_id\\nWHERE f.fruit_name = \\'apple\\' AND si.quantity_sold = 100 AND s.sale_date = \\'2010-03-27\\';`\\n```\\n\\n\\nUSER INPUT: On 2023-01-22, the shop purchased 100kg banana from supplier \\'ABC\\' (contact number: 67543, email: abc_sup@gmail.com) at 1.2 dollar/kg and planed sell at 1.8 dollar/kg. Banana\\'s fruit type is berry and shelf life is 15 days.\\nANSWER:\\n```\\nStep1: Insert supplier \\'ABC\\' if not exists\\n`INSERT INTO suppliers (supplier_name, contact_number, email)\\nSELECT \\'ABC\\', \\'67543\\', \\'abc_sup@gmail.com\\'\\nWHERE NOT EXISTS (SELECT 1 FROM suppliers WHERE supplier_name = \\'ABC\\');`\\n\\nStep2: Insert fruit (set the selling price to NULL and stock quantity to 0) if not exists\\n`INSERT INTO fruits (fruit_name, selling_price, stock_quantity, fruit_type, shelf_life)\\nSELECT \\'banana\\', NULL, 0, \\'berry\\', 15\\nWHERE NOT EXISTS (SELECT 1 FROM fruits WHERE fruit_name = \\'banana\\');`\\n\\nStep3: Insert purchase\\n`INSERT INTO purchases (supplier_id, purchase_date, total_cost)\\nVALUES ((SELECT supplier_id FROM suppliers WHERE supplier_name = \\'ABC\\'), \\'2023-01-22\\', 100 * 1.2);`\\n\\nStep4: Insert purchase item\\n`INSERT INTO purchase_items (purchase_id, fruit_id, quantity_purchased, cost_per_item, item_total_cost)\\nVALUES ((SELECT MAX(purchase_id) FROM purchases), (SELECT fruit_id FROM fruits WHERE fruit_name = \\'banana\\'), 100, 1.2, 100 * 1.2);`\\n\\nStep5: Update the stock quantity of banana\\n`UPDATE fruits\\nSET stock_quantity = stock_quantity + 100\\nWHERE fruit_name = \\'banana\\';`\\n\\nStep6: Update the selling price of banana if given new selling price\\n`UPDATE fruits\\nSET selling_price = 1.8\\nWHERE fruit_name = \\'banana\\';`\\n```\\n\\n\\nUSER INPUT: A customer named \\'Chenzhuang Du\\' with a phone number as 120056 and e-mail as chenzhuang@gmail.com bought 10kg apple and 5kg pear on 2010-03-27.\\nANSWER:\\n```\\nStep1: Insert customer \\'Chenzhuang Du\\' if not exists\\n`INSERT INTO customers (first_name, last_name, phone_number, email)\\nSELECT \\'Chenzhuang\\', \\'Du\\', \\'120056\\', \\'chenzhuang@gmail.com\\'\\nWHERE NOT EXISTS (SELECT 1 FROM customers WHERE phone_number = \\'120056\\');`\\n\\nStep2: Insert sale\\n`INSERT INTO sales (customer_id, sale_date, total_price)\\nVALUES ((SELECT customer_id FROM customers WHERE phone_number = \\'120056\\'), \\'2010-03-27\\', (SELECT selling_price FROM fruits WHERE fruit_name = \\'apple\\') * 10 + (SELECT selling_price FROM fruits WHERE fruit_name = \\'pear\\') * 5);`\\n\\nStep3: Insert sale item\\n`INSERT INTO sale_items (sale_id, fruit_id, quantity_sold, price_per_item, item_total_price)\\nVALUES ((SELECT MAX(sale_id) FROM sales), (SELECT fruit_id FROM fruits WHERE fruit_name = \\'apple\\'), 10, (SELECT selling_price FROM fruits WHERE fruit_name = \\'apple\\'), (SELECT selling_price FROM fruits WHERE fruit_name = \\'apple\\') * 10),\\n((SELECT MAX(sale_id) FROM sales), (SELECT fruit_id FROM fruits WHERE fruit_name = \\'pear\\'), 5, (SELECT selling_price FROM fruits WHERE fruit_name = \\'pear\\'), (SELECT selling_price FROM fruits WHERE fruit_name = \\'pear\\') * 5);`\\n\\nStep4: Update the stock quantity of apple and pear\\n`UPDATE fruits\\nSET stock_quantity = CASE\\n    WHEN fruit_name = \\'apple\\' THEN stock_quantity - 10\\n    WHEN fruit_name = \\'pear\\' THEN stock_quantity - 5\\n    ELSE stock_quantity\\nEND\\nWHERE fruit_name IN (\\'apple\\', \\'pear\\');`\\n```\\n\\n\\nUSER INPUT: Because the customer returned the goods, roll back a sales record which is made by the customer with customer id as 8 on 2023-01-29.\\nANSWER:\\n```\\nStep1: Find the sale_id for this customer on this date\\n`SELECT sale_id FROM sales WHERE customer_id = 8 AND sale_date = \\'2023-01-29\\';`\\n\\nStep2: Get all the fruit_id and quantity_sold for this sale, replace <sale_id> with the results from the previous queries\\n`SELECT fruit_id, quantity_sold FROM sale_items WHERE sale_id = <sale_id>;`\\n\\nStep3: Increase the stock_quantity for each fruit sold in this sale, replace <quantity_sold> <fruit_id> with the results from the previous queries\\n`UPDATE fruits\\nSET stock_quantity = stock_quantity + <quantity_sold>\\nWHERE fruit_id = <fruit_id>;`\\n\\nStep4: Delete the sale items for this sale, replace <sale_id> with the results from the previous queries\\n`DELETE FROM sale_items WHERE sale_id = <sale_id>;`\\n\\nStep5: Delete the sale record, replace <sale_id> with the results from the previous queries\\n`DELETE FROM sales WHERE sale_id = <sale_id>;`\\n```\\n\\n\\nUSER INPUT: A customer named \\'Chenzhuang Du\\' with a phone number as 120056 and e-mail as chenzhuang@gmail.com bought 10kg apple and 5kg pear on 2010-03-27\\nANSWER:\\n'"
     },
     "execution_count": 40,
     "metadata": {},
     "output_type": "execute_result"
    }
   ],
   "source": [
    "# user_prompt = prompt_ask_steps.format(user_inp=\"How many apples does the customer named 'Chenzhuang Du' bought on 2010-03-27\")\n",
    "user_prompt = prompt_ask_steps.format(user_inp=\"A customer named 'Chenzhuang Du' with a phone number as 120056 and e-mail as chenzhuang@gmail.com bought 10kg apple and 5kg pear on 2010-03-27\")\n",
    "user_prompt"
   ],
   "metadata": {
    "collapsed": false,
    "ExecuteTime": {
     "end_time": "2023-07-13T03:56:37.203677800Z",
     "start_time": "2023-07-13T03:56:37.194017Z"
    }
   }
  },
  {
   "cell_type": "code",
   "execution_count": 41,
   "outputs": [],
   "source": [
    "import traceback\n",
    "import time\n",
    "import json\n",
    "import requests\n",
    "from log_tools import slogger\n",
    "import config\n",
    "\n",
    "\n",
    "def get_openai_data_raw(messages, model='gpt-3.5-turbo',temperature=0.0):\n",
    "    content = None\n",
    "    # url = f'{api_host}/chat/completions'\n",
    "    url = f'{config.OPENAI_API_HOST_USE}/chat/completions'\n",
    "    headers = {'Authorization': f'Bearer {config.OPENAI_API_KEY}',\n",
    "               'Content-Type': 'application/json'}\n",
    "\n",
    "    data = {\n",
    "        \"model\": model,\n",
    "        \"temperature\": temperature,\n",
    "        \"messages\": messages\n",
    "    }\n",
    "    slogger.info(f\"get_openai_data: model:{model}\")\n",
    "    try:\n",
    "        response = requests.post(url, data=json.dumps(data), headers=headers, timeout=300)  # 不然服务器会卡死\n",
    "        slogger.info(response)\n",
    "        slogger.info(f\"response.status_code:{response.status_code}, response.text:{response.text}\")\n",
    "        if response.status_code == 200:\n",
    "            if \"That model is currently overloaded with other requests\" in response.text:\n",
    "                slogger.info(f\"openai overloaded, get_openai_data retrying:{url}\")\n",
    "                time.sleep(3)\n",
    "                response = requests.post(url, data=json.dumps(data), headers=headers, timeout=300)\n",
    "                slogger.info(response)\n",
    "                slogger.info(f\"response.status_code:{response.status_code}, response.text:{response.text}\")\n",
    "            json_dict = response.json()  # 解析JSON\n",
    "            slogger.info(f\"json_dict:{json_dict}\")\n",
    "            # 从JSON字符串中提取内容字段\n",
    "            content = json_dict['choices'][0]['message']['content']  # 获取指定字段\n",
    "            slogger.info(f\"content:{content}\")\n",
    "        else:\n",
    "            slogger.info(\"请求失败\")\n",
    "    except Exception as e:\n",
    "        traceback.print_exc()\n",
    "        slogger.info(f\"error:{e}\")\n",
    "    return content\n",
    "    # 处理响应结果\n"
   ],
   "metadata": {
    "collapsed": false,
    "ExecuteTime": {
     "end_time": "2023-07-13T03:56:38.443125200Z",
     "start_time": "2023-07-13T03:56:38.427434600Z"
    }
   }
  },
  {
   "cell_type": "code",
   "execution_count": 42,
   "outputs": [
    {
     "data": {
      "text/plain": "[{'role': 'system',\n  'content': '\\nYou are ChatDB, a powerful AI assistant, a variant of ChatGPT that can utilize databases as external symbolic memory. You are an expert in databases, proficient in SQL statements and can use the database to help users. The details of tables in the database are delimited by triple quotes.\\n\"\"\"\\n\\nCREATE TABLE fruits (\\n    fruit_id INTEGER PRIMARY KEY AUTO_INCREMENT,\\n    fruit_name TEXT NOT NULL,\\n    selling_price REAL,\\n    stock_quantity INTEGER,\\n    fruit_type TEXT,\\n    shelf_life INTEGER\\n);\\n\\n\\nCREATE TABLE customers (\\n    customer_id INTEGER PRIMARY KEY AUTO_INCREMENT,\\n    first_name TEXT,\\n    last_name TEXT,\\n    phone_number TEXT,\\n    email TEXT\\n);\\n\\n\\nCREATE TABLE suppliers (\\n    supplier_id INTEGER PRIMARY KEY AUTO_INCREMENT,\\n    supplier_name TEXT NOT NULL,\\n    contact_number TEXT,\\n    email TEXT\\n);\\n\\n\\nCREATE TABLE sales (\\n    sale_id INTEGER PRIMARY KEY AUTO_INCREMENT,\\n    customer_id INTEGER,\\n    sale_date DATE,\\n    total_price REAL,\\n    FOREIGN KEY (customer_id) REFERENCES customers(customer_id)\\n);\\n\\n\\nCREATE TABLE sale_items (\\n    sale_item_id INTEGER PRIMARY KEY AUTO_INCREMENT,\\n    sale_id INTEGER NOT NULL,\\n    fruit_id INTEGER NOT NULL,\\n    quantity_sold INTEGER,\\n    price_per_item REAL,\\n    item_total_price REAL,\\n    FOREIGN KEY (sale_id) REFERENCES sales(sale_id),\\n    FOREIGN KEY (fruit_id) REFERENCES fruits(fruit_id)\\n);\\n\\n\\nCREATE TABLE purchases (\\n    purchase_id INTEGER PRIMARY KEY AUTO_INCREMENT,\\n    supplier_id INTEGER NOT NULL,\\n    purchase_date DATE,\\n    total_cost REAL,\\n    FOREIGN KEY (supplier_id) REFERENCES suppliers(supplier_id)\\n);\\n\\n\\nCREATE TABLE purchase_items (\\n    purchase_item_id INTEGER PRIMARY KEY AUTO_INCREMENT,\\n    purchase_id INTEGER NOT NULL,\\n    fruit_id INTEGER NOT NULL,\\n    quantity_purchased INTEGER,\\n    cost_per_item REAL,\\n    item_total_cost REAL,\\n    FOREIGN KEY (purchase_id) REFERENCES purchases(purchase_id),\\n    FOREIGN KEY (fruit_id) REFERENCES fruits(fruit_id)\\n);\\n\\n\"\"\"\\n'},\n {'role': 'user',\n  'content': '\\nPlease tell me what standard SQL statements should I use in order to respond to the \"USER INPUT\". If it needs multiple SQL operations on the database, please list them step by step concisely. If there is no need to use the database, reply to the \"USER INPUT\" directly.\\nThe output should be a markdown code snippet formatted in the following schema, including the leading and trailing \"\\\\`\\\\`\\\\`\" and \"\\\\`\\\\`\\\\`\":\\n```\\nStep1: <Description of first step>\\nSQL command for step1\\n\\nStep2: <Description of second step>\\nSQL command for step2\\n\\n......\\n```\\nHere are some examples:\\n\\nUSER INPUT: Who bought 100kg apple on 2010-03-27 and what is he/she name, detailed information and costumer id?\\nANSWER:\\n```\\nStep1: Retrieve the customer information who made the purchase\\n`SELECT c.customer_id, c.first_name, c.last_name, c.phone_number, c.email\\nFROM customers c\\nJOIN sales s ON c.customer_id = s.customer_id\\nJOIN sale_items si ON s.sale_id = si.sale_id\\nJOIN fruits f ON si.fruit_id = f.fruit_id\\nWHERE f.fruit_name = \\'apple\\' AND si.quantity_sold = 100 AND s.sale_date = \\'2010-03-27\\';`\\n```\\n\\n\\nUSER INPUT: On 2023-01-22, the shop purchased 100kg banana from supplier \\'ABC\\' (contact number: 67543, email: abc_sup@gmail.com) at 1.2 dollar/kg and planed sell at 1.8 dollar/kg. Banana\\'s fruit type is berry and shelf life is 15 days.\\nANSWER:\\n```\\nStep1: Insert supplier \\'ABC\\' if not exists\\n`INSERT INTO suppliers (supplier_name, contact_number, email)\\nSELECT \\'ABC\\', \\'67543\\', \\'abc_sup@gmail.com\\'\\nWHERE NOT EXISTS (SELECT 1 FROM suppliers WHERE supplier_name = \\'ABC\\');`\\n\\nStep2: Insert fruit (set the selling price to NULL and stock quantity to 0) if not exists\\n`INSERT INTO fruits (fruit_name, selling_price, stock_quantity, fruit_type, shelf_life)\\nSELECT \\'banana\\', NULL, 0, \\'berry\\', 15\\nWHERE NOT EXISTS (SELECT 1 FROM fruits WHERE fruit_name = \\'banana\\');`\\n\\nStep3: Insert purchase\\n`INSERT INTO purchases (supplier_id, purchase_date, total_cost)\\nVALUES ((SELECT supplier_id FROM suppliers WHERE supplier_name = \\'ABC\\'), \\'2023-01-22\\', 100 * 1.2);`\\n\\nStep4: Insert purchase item\\n`INSERT INTO purchase_items (purchase_id, fruit_id, quantity_purchased, cost_per_item, item_total_cost)\\nVALUES ((SELECT MAX(purchase_id) FROM purchases), (SELECT fruit_id FROM fruits WHERE fruit_name = \\'banana\\'), 100, 1.2, 100 * 1.2);`\\n\\nStep5: Update the stock quantity of banana\\n`UPDATE fruits\\nSET stock_quantity = stock_quantity + 100\\nWHERE fruit_name = \\'banana\\';`\\n\\nStep6: Update the selling price of banana if given new selling price\\n`UPDATE fruits\\nSET selling_price = 1.8\\nWHERE fruit_name = \\'banana\\';`\\n```\\n\\n\\nUSER INPUT: A customer named \\'Chenzhuang Du\\' with a phone number as 120056 and e-mail as chenzhuang@gmail.com bought 10kg apple and 5kg pear on 2010-03-27.\\nANSWER:\\n```\\nStep1: Insert customer \\'Chenzhuang Du\\' if not exists\\n`INSERT INTO customers (first_name, last_name, phone_number, email)\\nSELECT \\'Chenzhuang\\', \\'Du\\', \\'120056\\', \\'chenzhuang@gmail.com\\'\\nWHERE NOT EXISTS (SELECT 1 FROM customers WHERE phone_number = \\'120056\\');`\\n\\nStep2: Insert sale\\n`INSERT INTO sales (customer_id, sale_date, total_price)\\nVALUES ((SELECT customer_id FROM customers WHERE phone_number = \\'120056\\'), \\'2010-03-27\\', (SELECT selling_price FROM fruits WHERE fruit_name = \\'apple\\') * 10 + (SELECT selling_price FROM fruits WHERE fruit_name = \\'pear\\') * 5);`\\n\\nStep3: Insert sale item\\n`INSERT INTO sale_items (sale_id, fruit_id, quantity_sold, price_per_item, item_total_price)\\nVALUES ((SELECT MAX(sale_id) FROM sales), (SELECT fruit_id FROM fruits WHERE fruit_name = \\'apple\\'), 10, (SELECT selling_price FROM fruits WHERE fruit_name = \\'apple\\'), (SELECT selling_price FROM fruits WHERE fruit_name = \\'apple\\') * 10),\\n((SELECT MAX(sale_id) FROM sales), (SELECT fruit_id FROM fruits WHERE fruit_name = \\'pear\\'), 5, (SELECT selling_price FROM fruits WHERE fruit_name = \\'pear\\'), (SELECT selling_price FROM fruits WHERE fruit_name = \\'pear\\') * 5);`\\n\\nStep4: Update the stock quantity of apple and pear\\n`UPDATE fruits\\nSET stock_quantity = CASE\\n    WHEN fruit_name = \\'apple\\' THEN stock_quantity - 10\\n    WHEN fruit_name = \\'pear\\' THEN stock_quantity - 5\\n    ELSE stock_quantity\\nEND\\nWHERE fruit_name IN (\\'apple\\', \\'pear\\');`\\n```\\n\\n\\nUSER INPUT: Because the customer returned the goods, roll back a sales record which is made by the customer with customer id as 8 on 2023-01-29.\\nANSWER:\\n```\\nStep1: Find the sale_id for this customer on this date\\n`SELECT sale_id FROM sales WHERE customer_id = 8 AND sale_date = \\'2023-01-29\\';`\\n\\nStep2: Get all the fruit_id and quantity_sold for this sale, replace <sale_id> with the results from the previous queries\\n`SELECT fruit_id, quantity_sold FROM sale_items WHERE sale_id = <sale_id>;`\\n\\nStep3: Increase the stock_quantity for each fruit sold in this sale, replace <quantity_sold> <fruit_id> with the results from the previous queries\\n`UPDATE fruits\\nSET stock_quantity = stock_quantity + <quantity_sold>\\nWHERE fruit_id = <fruit_id>;`\\n\\nStep4: Delete the sale items for this sale, replace <sale_id> with the results from the previous queries\\n`DELETE FROM sale_items WHERE sale_id = <sale_id>;`\\n\\nStep5: Delete the sale record, replace <sale_id> with the results from the previous queries\\n`DELETE FROM sales WHERE sale_id = <sale_id>;`\\n```\\n\\n\\nUSER INPUT: A customer named \\'Chenzhuang Du\\' with a phone number as 120056 and e-mail as chenzhuang@gmail.com bought 10kg apple and 5kg pear on 2010-03-27\\nANSWER:\\n'}]"
     },
     "execution_count": 42,
     "metadata": {},
     "output_type": "execute_result"
    }
   ],
   "source": [
    "    # Set up the prompt\n",
    "messages = [{\n",
    "    'role': 'system',\n",
    "    'content': sys_prompt\n",
    "}, {\n",
    "    \"role\":\n",
    "    \"user\",\n",
    "    \"content\":user_prompt,\n",
    "}]\n",
    "messages"
   ],
   "metadata": {
    "collapsed": false,
    "ExecuteTime": {
     "end_time": "2023-07-13T03:56:40.176739800Z",
     "start_time": "2023-07-13T03:56:40.145490700Z"
    }
   }
  },
  {
   "cell_type": "code",
   "execution_count": 38,
   "outputs": [
    {
     "name": "stderr",
     "output_type": "stream",
     "text": [
      "2023-07-13 11:53:49,230 - 323910328.py - [line]:21 - INFO - get_openai_data: model:gpt-3.5-turbo\n",
      "2023-07-13 11:53:53,222 - 323910328.py - [line]:24 - INFO - <Response [200]>\n",
      "2023-07-13 11:53:53,222 - 323910328.py - [line]:25 - INFO - response.status_code:200, response.text:{\n",
      "  \"id\": \"chatcmpl-7bhgnVFrGF0YGO7PoQe9jargXyIco\",\n",
      "  \"object\": \"chat.completion\",\n",
      "  \"created\": 1689220433,\n",
      "  \"model\": \"gpt-3.5-turbo-0613\",\n",
      "  \"choices\": [\n",
      "    {\n",
      "      \"index\": 0,\n",
      "      \"message\": {\n",
      "        \"role\": \"assistant\",\n",
      "        \"content\": \"```\\nStep1: Retrieve the quantity of apples bought by the customer\\nSELECT si.quantity_sold\\nFROM customers c\\nJOIN sales s ON c.customer_id = s.customer_id\\nJOIN sale_items si ON s.sale_id = si.sale_id\\nJOIN fruits f ON si.fruit_id = f.fruit_id\\nWHERE c.first_name = 'Chenzhuang' AND c.last_name = 'Du' AND f.fruit_name = 'apple' AND s.sale_date = '2010-03-27';\\n```\"\n",
      "      },\n",
      "      \"finish_reason\": \"stop\"\n",
      "    }\n",
      "  ],\n",
      "  \"usage\": {\n",
      "    \"prompt_tokens\": 1792,\n",
      "    \"completion_tokens\": 105,\n",
      "    \"total_tokens\": 1897\n",
      "  }\n",
      "}\n",
      "\n",
      "2023-07-13 11:53:53,224 - 323910328.py - [line]:34 - INFO - json_dict:{'id': 'chatcmpl-7bhgnVFrGF0YGO7PoQe9jargXyIco', 'object': 'chat.completion', 'created': 1689220433, 'model': 'gpt-3.5-turbo-0613', 'choices': [{'index': 0, 'message': {'role': 'assistant', 'content': \"```\\nStep1: Retrieve the quantity of apples bought by the customer\\nSELECT si.quantity_sold\\nFROM customers c\\nJOIN sales s ON c.customer_id = s.customer_id\\nJOIN sale_items si ON s.sale_id = si.sale_id\\nJOIN fruits f ON si.fruit_id = f.fruit_id\\nWHERE c.first_name = 'Chenzhuang' AND c.last_name = 'Du' AND f.fruit_name = 'apple' AND s.sale_date = '2010-03-27';\\n```\"}, 'finish_reason': 'stop'}], 'usage': {'prompt_tokens': 1792, 'completion_tokens': 105, 'total_tokens': 1897}}\n",
      "2023-07-13 11:53:53,227 - 323910328.py - [line]:37 - INFO - content:```\n",
      "Step1: Retrieve the quantity of apples bought by the customer\n",
      "SELECT si.quantity_sold\n",
      "FROM customers c\n",
      "JOIN sales s ON c.customer_id = s.customer_id\n",
      "JOIN sale_items si ON s.sale_id = si.sale_id\n",
      "JOIN fruits f ON si.fruit_id = f.fruit_id\n",
      "WHERE c.first_name = 'Chenzhuang' AND c.last_name = 'Du' AND f.fruit_name = 'apple' AND s.sale_date = '2010-03-27';\n",
      "```\n"
     ]
    },
    {
     "data": {
      "text/plain": "\"```\\nStep1: Retrieve the quantity of apples bought by the customer\\nSELECT si.quantity_sold\\nFROM customers c\\nJOIN sales s ON c.customer_id = s.customer_id\\nJOIN sale_items si ON s.sale_id = si.sale_id\\nJOIN fruits f ON si.fruit_id = f.fruit_id\\nWHERE c.first_name = 'Chenzhuang' AND c.last_name = 'Du' AND f.fruit_name = 'apple' AND s.sale_date = '2010-03-27';\\n```\""
     },
     "execution_count": 38,
     "metadata": {},
     "output_type": "execute_result"
    }
   ],
   "source": [
    "res = get_openai_data_raw(messages=messages, model='gpt-3.5-turbo',temperature=0.0)\n",
    "print(res)"
   ],
   "metadata": {
    "collapsed": false,
    "ExecuteTime": {
     "end_time": "2023-07-13T03:53:53.234038Z",
     "start_time": "2023-07-13T03:53:49.247784Z"
    }
   }
  },
  {
   "cell_type": "code",
   "execution_count": 39,
   "outputs": [
    {
     "name": "stderr",
     "output_type": "stream",
     "text": [
      "2023-07-13 11:56:04,046 - 323910328.py - [line]:21 - INFO - get_openai_data: model:gpt-3.5-turbo-16k\n",
      "2023-07-13 11:56:07,454 - 323910328.py - [line]:24 - INFO - <Response [200]>\n",
      "2023-07-13 11:56:07,454 - 323910328.py - [line]:25 - INFO - response.status_code:200, response.text:{\n",
      "  \"id\": \"chatcmpl-7bhiymfIxaza2ANkXFR2bdXpfyzYo\",\n",
      "  \"object\": \"chat.completion\",\n",
      "  \"created\": 1689220568,\n",
      "  \"model\": \"gpt-3.5-turbo-16k-0613\",\n",
      "  \"choices\": [\n",
      "    {\n",
      "      \"index\": 0,\n",
      "      \"message\": {\n",
      "        \"role\": \"assistant\",\n",
      "        \"content\": \"```\\nStep1: Retrieve the quantity of apples bought by the customer\\nSELECT si.quantity_sold\\nFROM customers c\\nJOIN sales s ON c.customer_id = s.customer_id\\nJOIN sale_items si ON s.sale_id = si.sale_id\\nJOIN fruits f ON si.fruit_id = f.fruit_id\\nWHERE c.first_name = 'Chenzhuang' AND c.last_name = 'Du' AND f.fruit_name = 'apple' AND s.sale_date = '2010-03-27';\\n```\"\n",
      "      },\n",
      "      \"finish_reason\": \"stop\"\n",
      "    }\n",
      "  ],\n",
      "  \"usage\": {\n",
      "    \"prompt_tokens\": 1792,\n",
      "    \"completion_tokens\": 105,\n",
      "    \"total_tokens\": 1897\n",
      "  }\n",
      "}\n",
      "\n",
      "2023-07-13 11:56:07,454 - 323910328.py - [line]:34 - INFO - json_dict:{'id': 'chatcmpl-7bhiymfIxaza2ANkXFR2bdXpfyzYo', 'object': 'chat.completion', 'created': 1689220568, 'model': 'gpt-3.5-turbo-16k-0613', 'choices': [{'index': 0, 'message': {'role': 'assistant', 'content': \"```\\nStep1: Retrieve the quantity of apples bought by the customer\\nSELECT si.quantity_sold\\nFROM customers c\\nJOIN sales s ON c.customer_id = s.customer_id\\nJOIN sale_items si ON s.sale_id = si.sale_id\\nJOIN fruits f ON si.fruit_id = f.fruit_id\\nWHERE c.first_name = 'Chenzhuang' AND c.last_name = 'Du' AND f.fruit_name = 'apple' AND s.sale_date = '2010-03-27';\\n```\"}, 'finish_reason': 'stop'}], 'usage': {'prompt_tokens': 1792, 'completion_tokens': 105, 'total_tokens': 1897}}\n",
      "2023-07-13 11:56:07,454 - 323910328.py - [line]:37 - INFO - content:```\n",
      "Step1: Retrieve the quantity of apples bought by the customer\n",
      "SELECT si.quantity_sold\n",
      "FROM customers c\n",
      "JOIN sales s ON c.customer_id = s.customer_id\n",
      "JOIN sale_items si ON s.sale_id = si.sale_id\n",
      "JOIN fruits f ON si.fruit_id = f.fruit_id\n",
      "WHERE c.first_name = 'Chenzhuang' AND c.last_name = 'Du' AND f.fruit_name = 'apple' AND s.sale_date = '2010-03-27';\n",
      "```\n"
     ]
    },
    {
     "name": "stdout",
     "output_type": "stream",
     "text": [
      "```\n",
      "Step1: Retrieve the quantity of apples bought by the customer\n",
      "SELECT si.quantity_sold\n",
      "FROM customers c\n",
      "JOIN sales s ON c.customer_id = s.customer_id\n",
      "JOIN sale_items si ON s.sale_id = si.sale_id\n",
      "JOIN fruits f ON si.fruit_id = f.fruit_id\n",
      "WHERE c.first_name = 'Chenzhuang' AND c.last_name = 'Du' AND f.fruit_name = 'apple' AND s.sale_date = '2010-03-27';\n",
      "```\n"
     ]
    }
   ],
   "source": [
    "res = get_openai_data_raw(messages=messages, model='gpt-3.5-turbo-16k',temperature=0.0)\n",
    "print(res)"
   ],
   "metadata": {
    "collapsed": false,
    "ExecuteTime": {
     "end_time": "2023-07-13T03:56:07.509967300Z",
     "start_time": "2023-07-13T03:56:04.051490400Z"
    }
   }
  },
  {
   "cell_type": "code",
   "execution_count": 43,
   "outputs": [
    {
     "name": "stderr",
     "output_type": "stream",
     "text": [
      "2023-07-13 11:56:55,440 - 323910328.py - [line]:21 - INFO - get_openai_data: model:gpt-3.5-turbo-16k\n",
      "2023-07-13 11:57:03,255 - 323910328.py - [line]:24 - INFO - <Response [200]>\n",
      "2023-07-13 11:57:03,255 - 323910328.py - [line]:25 - INFO - response.status_code:200, response.text:{\n",
      "  \"id\": \"chatcmpl-7bhjnRn40NliFUCBXytcRTf7vaor3\",\n",
      "  \"object\": \"chat.completion\",\n",
      "  \"created\": 1689220619,\n",
      "  \"model\": \"gpt-3.5-turbo-16k-0613\",\n",
      "  \"choices\": [\n",
      "    {\n",
      "      \"index\": 0,\n",
      "      \"message\": {\n",
      "        \"role\": \"assistant\",\n",
      "        \"content\": \"```\\nStep1: Insert customer 'Chenzhuang Du' if not exists\\n`INSERT INTO customers (first_name, last_name, phone_number, email)\\nSELECT 'Chenzhuang', 'Du', '120056', 'chenzhuang@gmail.com'\\nWHERE NOT EXISTS (SELECT 1 FROM customers WHERE phone_number = '120056');`\\n\\nStep2: Insert sale\\n`INSERT INTO sales (customer_id, sale_date, total_price)\\nVALUES ((SELECT customer_id FROM customers WHERE phone_number = '120056'), '2010-03-27', (SELECT selling_price FROM fruits WHERE fruit_name = 'apple') * 10 + (SELECT selling_price FROM fruits WHERE fruit_name = 'pear') * 5);`\\n\\nStep3: Insert sale item\\n`INSERT INTO sale_items (sale_id, fruit_id, quantity_sold, price_per_item, item_total_price)\\nVALUES ((SELECT MAX(sale_id) FROM sales), (SELECT fruit_id FROM fruits WHERE fruit_name = 'apple'), 10, (SELECT selling_price FROM fruits WHERE fruit_name = 'apple'), (SELECT selling_price FROM fruits WHERE fruit_name = 'apple') * 10),\\n((SELECT MAX(sale_id) FROM sales), (SELECT fruit_id FROM fruits WHERE fruit_name = 'pear'), 5, (SELECT selling_price FROM fruits WHERE fruit_name = 'pear'), (SELECT selling_price FROM fruits WHERE fruit_name = 'pear') * 5);`\\n\\nStep4: Update the stock quantity of apple and pear\\n`UPDATE fruits\\nSET stock_quantity = CASE\\n    WHEN fruit_name = 'apple' THEN stock_quantity - 10\\n    WHEN fruit_name = 'pear' THEN stock_quantity - 5\\n    ELSE stock_quantity\\nEND\\nWHERE fruit_name IN ('apple', 'pear');`\\n```\"\n",
      "      },\n",
      "      \"finish_reason\": \"stop\"\n",
      "    }\n",
      "  ],\n",
      "  \"usage\": {\n",
      "    \"prompt_tokens\": 1815,\n",
      "    \"completion_tokens\": 367,\n",
      "    \"total_tokens\": 2182\n",
      "  }\n",
      "}\n",
      "\n",
      "2023-07-13 11:57:03,255 - 323910328.py - [line]:34 - INFO - json_dict:{'id': 'chatcmpl-7bhjnRn40NliFUCBXytcRTf7vaor3', 'object': 'chat.completion', 'created': 1689220619, 'model': 'gpt-3.5-turbo-16k-0613', 'choices': [{'index': 0, 'message': {'role': 'assistant', 'content': \"```\\nStep1: Insert customer 'Chenzhuang Du' if not exists\\n`INSERT INTO customers (first_name, last_name, phone_number, email)\\nSELECT 'Chenzhuang', 'Du', '120056', 'chenzhuang@gmail.com'\\nWHERE NOT EXISTS (SELECT 1 FROM customers WHERE phone_number = '120056');`\\n\\nStep2: Insert sale\\n`INSERT INTO sales (customer_id, sale_date, total_price)\\nVALUES ((SELECT customer_id FROM customers WHERE phone_number = '120056'), '2010-03-27', (SELECT selling_price FROM fruits WHERE fruit_name = 'apple') * 10 + (SELECT selling_price FROM fruits WHERE fruit_name = 'pear') * 5);`\\n\\nStep3: Insert sale item\\n`INSERT INTO sale_items (sale_id, fruit_id, quantity_sold, price_per_item, item_total_price)\\nVALUES ((SELECT MAX(sale_id) FROM sales), (SELECT fruit_id FROM fruits WHERE fruit_name = 'apple'), 10, (SELECT selling_price FROM fruits WHERE fruit_name = 'apple'), (SELECT selling_price FROM fruits WHERE fruit_name = 'apple') * 10),\\n((SELECT MAX(sale_id) FROM sales), (SELECT fruit_id FROM fruits WHERE fruit_name = 'pear'), 5, (SELECT selling_price FROM fruits WHERE fruit_name = 'pear'), (SELECT selling_price FROM fruits WHERE fruit_name = 'pear') * 5);`\\n\\nStep4: Update the stock quantity of apple and pear\\n`UPDATE fruits\\nSET stock_quantity = CASE\\n    WHEN fruit_name = 'apple' THEN stock_quantity - 10\\n    WHEN fruit_name = 'pear' THEN stock_quantity - 5\\n    ELSE stock_quantity\\nEND\\nWHERE fruit_name IN ('apple', 'pear');`\\n```\"}, 'finish_reason': 'stop'}], 'usage': {'prompt_tokens': 1815, 'completion_tokens': 367, 'total_tokens': 2182}}\n",
      "2023-07-13 11:57:03,259 - 323910328.py - [line]:37 - INFO - content:```\n",
      "Step1: Insert customer 'Chenzhuang Du' if not exists\n",
      "`INSERT INTO customers (first_name, last_name, phone_number, email)\n",
      "SELECT 'Chenzhuang', 'Du', '120056', 'chenzhuang@gmail.com'\n",
      "WHERE NOT EXISTS (SELECT 1 FROM customers WHERE phone_number = '120056');`\n",
      "\n",
      "Step2: Insert sale\n",
      "`INSERT INTO sales (customer_id, sale_date, total_price)\n",
      "VALUES ((SELECT customer_id FROM customers WHERE phone_number = '120056'), '2010-03-27', (SELECT selling_price FROM fruits WHERE fruit_name = 'apple') * 10 + (SELECT selling_price FROM fruits WHERE fruit_name = 'pear') * 5);`\n",
      "\n",
      "Step3: Insert sale item\n",
      "`INSERT INTO sale_items (sale_id, fruit_id, quantity_sold, price_per_item, item_total_price)\n",
      "VALUES ((SELECT MAX(sale_id) FROM sales), (SELECT fruit_id FROM fruits WHERE fruit_name = 'apple'), 10, (SELECT selling_price FROM fruits WHERE fruit_name = 'apple'), (SELECT selling_price FROM fruits WHERE fruit_name = 'apple') * 10),\n",
      "((SELECT MAX(sale_id) FROM sales), (SELECT fruit_id FROM fruits WHERE fruit_name = 'pear'), 5, (SELECT selling_price FROM fruits WHERE fruit_name = 'pear'), (SELECT selling_price FROM fruits WHERE fruit_name = 'pear') * 5);`\n",
      "\n",
      "Step4: Update the stock quantity of apple and pear\n",
      "`UPDATE fruits\n",
      "SET stock_quantity = CASE\n",
      "    WHEN fruit_name = 'apple' THEN stock_quantity - 10\n",
      "    WHEN fruit_name = 'pear' THEN stock_quantity - 5\n",
      "    ELSE stock_quantity\n",
      "END\n",
      "WHERE fruit_name IN ('apple', 'pear');`\n",
      "```\n"
     ]
    },
    {
     "name": "stdout",
     "output_type": "stream",
     "text": [
      "```\n",
      "Step1: Insert customer 'Chenzhuang Du' if not exists\n",
      "`INSERT INTO customers (first_name, last_name, phone_number, email)\n",
      "SELECT 'Chenzhuang', 'Du', '120056', 'chenzhuang@gmail.com'\n",
      "WHERE NOT EXISTS (SELECT 1 FROM customers WHERE phone_number = '120056');`\n",
      "\n",
      "Step2: Insert sale\n",
      "`INSERT INTO sales (customer_id, sale_date, total_price)\n",
      "VALUES ((SELECT customer_id FROM customers WHERE phone_number = '120056'), '2010-03-27', (SELECT selling_price FROM fruits WHERE fruit_name = 'apple') * 10 + (SELECT selling_price FROM fruits WHERE fruit_name = 'pear') * 5);`\n",
      "\n",
      "Step3: Insert sale item\n",
      "`INSERT INTO sale_items (sale_id, fruit_id, quantity_sold, price_per_item, item_total_price)\n",
      "VALUES ((SELECT MAX(sale_id) FROM sales), (SELECT fruit_id FROM fruits WHERE fruit_name = 'apple'), 10, (SELECT selling_price FROM fruits WHERE fruit_name = 'apple'), (SELECT selling_price FROM fruits WHERE fruit_name = 'apple') * 10),\n",
      "((SELECT MAX(sale_id) FROM sales), (SELECT fruit_id FROM fruits WHERE fruit_name = 'pear'), 5, (SELECT selling_price FROM fruits WHERE fruit_name = 'pear'), (SELECT selling_price FROM fruits WHERE fruit_name = 'pear') * 5);`\n",
      "\n",
      "Step4: Update the stock quantity of apple and pear\n",
      "`UPDATE fruits\n",
      "SET stock_quantity = CASE\n",
      "    WHEN fruit_name = 'apple' THEN stock_quantity - 10\n",
      "    WHEN fruit_name = 'pear' THEN stock_quantity - 5\n",
      "    ELSE stock_quantity\n",
      "END\n",
      "WHERE fruit_name IN ('apple', 'pear');`\n",
      "```\n"
     ]
    }
   ],
   "source": [
    "res = get_openai_data_raw(messages=messages, model='gpt-3.5-turbo-16k',temperature=0.0)\n",
    "print(res)"
   ],
   "metadata": {
    "collapsed": false,
    "ExecuteTime": {
     "end_time": "2023-07-13T03:57:03.293488900Z",
     "start_time": "2023-07-13T03:56:55.450491400Z"
    }
   }
  },
  {
   "cell_type": "code",
   "execution_count": null,
   "outputs": [],
   "source": [],
   "metadata": {
    "collapsed": false
   }
  }
 ],
 "metadata": {
  "kernelspec": {
   "display_name": "Python 3",
   "language": "python",
   "name": "python3"
  },
  "language_info": {
   "codemirror_mode": {
    "name": "ipython",
    "version": 2
   },
   "file_extension": ".py",
   "mimetype": "text/x-python",
   "name": "python",
   "nbconvert_exporter": "python",
   "pygments_lexer": "ipython2",
   "version": "2.7.6"
  }
 },
 "nbformat": 4,
 "nbformat_minor": 0
}
