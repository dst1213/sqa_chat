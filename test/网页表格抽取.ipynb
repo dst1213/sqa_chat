{
 "cells": [
  {
   "cell_type": "code",
   "execution_count": 1,
   "metadata": {
    "collapsed": true,
    "ExecuteTime": {
     "end_time": "2023-07-05T09:04:39.101393900Z",
     "start_time": "2023-07-05T09:04:38.898440800Z"
    }
   },
   "outputs": [],
   "source": [
    "import pandas as pd"
   ]
  },
  {
   "cell_type": "code",
   "execution_count": 22,
   "outputs": [],
   "source": [
    "url = \"https://scholars.lib.ntu.edu.tw/cris/rp/rp06754\""
   ],
   "metadata": {
    "collapsed": false,
    "ExecuteTime": {
     "end_time": "2023-07-05T10:17:38.907784800Z",
     "start_time": "2023-07-05T10:17:38.887731800Z"
    }
   }
  },
  {
   "cell_type": "code",
   "execution_count": 23,
   "outputs": [],
   "source": [
    "from selenium import webdriver\n",
    "from bs4 import BeautifulSoup\n",
    "import requests\n",
    "\n",
    "def get_html_by_sn(url):\n",
    "    # 获取所有展示的文本内容和原始结构\n",
    "    # 引入浏览器配置\n",
    "    options = webdriver.ChromeOptions()\n",
    "    # 设置无头模式\n",
    "    options.add_argument('--headless')  # 不打开浏览器\n",
    "    # 启动浏览器实例，添加配置信息\n",
    "    browser = webdriver.Chrome(options=options)\n",
    "    # browser = webdriver.Chrome()\n",
    "    browser.get(url)\n",
    "    html_text = browser.page_source\n",
    "    soup = BeautifulSoup(html_text, 'html.parser')\n",
    "    text = soup.get_text()\n",
    "    output = \"\"\n",
    "    for t in text.split(\"\\n\"):\n",
    "        if t.replace(\" \", \"\").replace(\"\\t\", \"\") == \"\":\n",
    "            continue\n",
    "        output += t\n",
    "        output += \"\\n\"\n",
    "    browser.quit()\n",
    "    return soup, output, html_text\n",
    "\n"
   ],
   "metadata": {
    "collapsed": false,
    "ExecuteTime": {
     "end_time": "2023-07-05T10:17:39.779961100Z",
     "start_time": "2023-07-05T10:17:39.765347100Z"
    }
   }
  },
  {
   "cell_type": "code",
   "execution_count": 24,
   "outputs": [],
   "source": [
    "soup, output, html_text = get_html_by_sn(url)"
   ],
   "metadata": {
    "collapsed": false,
    "ExecuteTime": {
     "end_time": "2023-07-05T10:17:57.690852200Z",
     "start_time": "2023-07-05T10:17:42.435045200Z"
    }
   }
  },
  {
   "cell_type": "code",
   "execution_count": 6,
   "outputs": [
    {
     "name": "stderr",
     "output_type": "stream",
     "text": [
      "D:\\temp\\py_venv\\sqa_chat\\lib\\site-packages\\urllib3\\connectionpool.py:1045: InsecureRequestWarning: Unverified HTTPS request is being made to host 'scholars.lib.ntu.edu.tw'. Adding certificate verification is strongly advised. See: https://urllib3.readthedocs.io/en/1.26.x/advanced-usage.html#ssl-warnings\n",
      "  warnings.warn(\n"
     ]
    }
   ],
   "source": [
    "from bs4 import BeautifulSoup\n",
    "from html_clean import cleaner\n",
    "content = cleaner.clean_html(html_text)\n"
   ],
   "metadata": {
    "collapsed": false,
    "ExecuteTime": {
     "end_time": "2023-07-05T09:57:00.368392300Z",
     "start_time": "2023-07-05T09:56:59.623719500Z"
    }
   }
  },
  {
   "cell_type": "code",
   "execution_count": 25,
   "outputs": [],
   "source": [
    "# content = content.replace('\\n','').replace('\\t','')\n",
    "content = html_text.replace('\\n','').replace('\\t','')\n",
    "soup = BeautifulSoup(content, 'html.parser')"
   ],
   "metadata": {
    "collapsed": false,
    "ExecuteTime": {
     "end_time": "2023-07-05T10:18:43.226823200Z",
     "start_time": "2023-07-05T10:18:43.206824400Z"
    }
   }
  },
  {
   "cell_type": "code",
   "execution_count": 26,
   "outputs": [
    {
     "data": {
      "text/plain": "4"
     },
     "execution_count": 26,
     "metadata": {},
     "output_type": "execute_result"
    }
   ],
   "source": [
    "ts = soup.find_all('table')\n",
    "ts.__len__()"
   ],
   "metadata": {
    "collapsed": false,
    "ExecuteTime": {
     "end_time": "2023-07-05T10:18:44.659841500Z",
     "start_time": "2023-07-05T10:18:44.642841200Z"
    }
   }
  },
  {
   "cell_type": "code",
   "execution_count": 42,
   "outputs": [
    {
     "data": {
      "text/plain": "<table cellpadding=\"0\" cellspacing=\"0\" class=\"dynaFieldComboValue dataTable no-footer\" id=\"13\" role=\"grid\"><thead><tr role=\"row\"><th aria-controls=\"13\" aria-label=\"序號: activate to sort column descending\" aria-sort=\"ascending\" class=\"sorting_asc\" colspan=\"1\" rowspan=\"1\" tabindex=\"0\">序號</th><th aria-controls=\"13\" aria-label=\"學校: activate to sort column ascending\" class=\"sorting\" colspan=\"1\" rowspan=\"1\" style=\"width: 162.078px;\" tabindex=\"0\">學校</th><th aria-controls=\"13\" aria-label=\"主修: activate to sort column ascending\" class=\"sorting\" colspan=\"1\" rowspan=\"1\" style=\"width: 215.844px;\" tabindex=\"0\">主修</th><th aria-controls=\"13\" aria-label=\"學位: activate to sort column ascending\" class=\"sorting\" colspan=\"1\" rowspan=\"1\" style=\"width: 70.6562px;\" tabindex=\"0\">學位</th><th aria-controls=\"13\" aria-label=\"日期起: activate to sort column ascending\" class=\"hidecolumn sorting\" colspan=\"1\" rowspan=\"1\" style=\"width: 65px;\" tabindex=\"0\">日期起</th><th aria-controls=\"13\" aria-label=\"日期迄: activate to sort column ascending\" class=\"sorting\" colspan=\"1\" rowspan=\"1\" style=\"width: 70.6562px;\" tabindex=\"0\">日期迄</th><th aria-controls=\"13\" aria-label=\"國家: activate to sort column ascending\" class=\"sorting\" colspan=\"1\" rowspan=\"1\" style=\"width: 70.7031px;\" tabindex=\"0\">國家</th><th aria-controls=\"13\" aria-label=\"城市: activate to sort column ascending\" class=\"hidecolumn sorting\" colspan=\"1\" rowspan=\"1\" style=\"width: 65px;\" tabindex=\"0\">城市</th></tr></thead><tbody><tr class=\"odd\" role=\"row\"><td class=\"sorting_1\" style=\"\"><div class=\"theader\" data-title=\"序號\"></div><div class=\"tcontent\">1</div></td><td style=\"\"><div class=\"theader\" data-title=\"學校\"></div><div class=\"tcontent\">國立臺灣大學</div></td><td style=\"\"><div class=\"theader\" data-title=\"主修\"></div><div class=\"tcontent\">臨床牙醫學研究所</div></td><td style=\"\"><div class=\"theader\" data-title=\"學位\"></div><div class=\"tcontent\">博士</div></td><td style=\"display:none;\"></td><td style=\"\">  31-07-2012</td><td style=\"\">臺灣</td><td style=\"display:none;\"></td></tr><tr class=\"even\" role=\"row\"><td class=\"sorting_1\" style=\"\"><div class=\"theader\" data-title=\"序號\"></div><div class=\"tcontent\">2</div></td><td style=\"\"><div class=\"theader\" data-title=\"學校\"></div><div class=\"tcontent\">國立臺灣大學</div></td><td style=\"\"><div class=\"theader\" data-title=\"主修\"></div><div class=\"tcontent\">臨床牙醫學研究所</div></td><td style=\"\"><div class=\"theader\" data-title=\"學位\"></div><div class=\"tcontent\">碩士</div></td><td style=\"display:none;\"></td><td style=\"\">  31-07-1997</td><td style=\"\">臺灣</td><td style=\"display:none;\"></td></tr><tr class=\"odd\" role=\"row\"><td class=\"sorting_1\" style=\"\"><div class=\"theader\" data-title=\"序號\"></div><div class=\"tcontent\">3</div></td><td style=\"\"><div class=\"theader\" data-title=\"學校\"></div><div class=\"tcontent\">中山醫學大學</div></td><td style=\"\"><div class=\"theader\" data-title=\"主修\"></div><div class=\"tcontent\">牙醫學系</div></td><td style=\"\"><div class=\"theader\" data-title=\"學位\"></div><div class=\"tcontent\">學士</div></td><td style=\"display:none;\"></td><td style=\"\">  31-07-1993</td><td style=\"\">臺灣</td><td style=\"display:none;\"></td></tr></tbody></table>"
     },
     "execution_count": 42,
     "metadata": {},
     "output_type": "execute_result"
    }
   ],
   "source": [
    "ts[1]."
   ],
   "metadata": {
    "collapsed": false,
    "ExecuteTime": {
     "end_time": "2023-07-05T10:28:03.482503700Z",
     "start_time": "2023-07-05T10:28:03.463504100Z"
    }
   }
  },
  {
   "cell_type": "code",
   "execution_count": 40,
   "outputs": [
    {
     "data": {
      "text/plain": "'序號學校主修學位日期起日期迄國家城市1國立臺灣大學臨床牙醫學研究所博士  31-07-2012臺灣2國立臺灣大學臨床牙醫學研究所碩士  31-07-1997臺灣3中山醫學大學牙醫學系學士  31-07-1993臺灣'"
     },
     "execution_count": 40,
     "metadata": {},
     "output_type": "execute_result"
    }
   ],
   "source": [
    "ts[1].text"
   ],
   "metadata": {
    "collapsed": false,
    "ExecuteTime": {
     "end_time": "2023-07-05T10:21:49.920398700Z",
     "start_time": "2023-07-05T10:21:49.901018200Z"
    }
   }
  },
  {
   "cell_type": "code",
   "execution_count": 28,
   "outputs": [
    {
     "data": {
      "text/plain": "[['No', '單位', '職稱'],\n ['1', '口腔生物科學研究所', '所長'],\n ['2', '口腔生物科學研究所', '教授'],\n ['3', '牙醫專業學院', '教授'],\n ['4', '牙科部', '主治醫師']]"
     },
     "execution_count": 28,
     "metadata": {},
     "output_type": "execute_result"
    }
   ],
   "source": [
    "from html_table_extractor.extractor import Extractor\n",
    "table_doc = ts[0]\n",
    "extractor = Extractor(table_doc)\n",
    "extractor.parse()\n",
    "extractor.return_list()"
   ],
   "metadata": {
    "collapsed": false,
    "ExecuteTime": {
     "end_time": "2023-07-05T10:18:51.348637500Z",
     "start_time": "2023-07-05T10:18:51.338639500Z"
    }
   }
  },
  {
   "cell_type": "code",
   "execution_count": 41,
   "outputs": [
    {
     "data": {
      "text/plain": "['1-口腔生物科學研究所-所長', '2-口腔生物科學研究所-教授', '3-牙醫專業學院-教授', '4-牙科部-主治醫師']"
     },
     "execution_count": 41,
     "metadata": {},
     "output_type": "execute_result"
    }
   ],
   "source": [
    "data = extractor.return_list()\n",
    "['-'.join(x) for x in data[1:]]"
   ],
   "metadata": {
    "collapsed": false,
    "ExecuteTime": {
     "end_time": "2023-07-05T10:26:32.516359300Z",
     "start_time": "2023-07-05T10:26:32.505359Z"
    }
   }
  },
  {
   "cell_type": "code",
   "execution_count": 17,
   "outputs": [
    {
     "name": "stdout",
     "output_type": "stream",
     "text": [
      "包含繁体字\n"
     ]
    }
   ],
   "source": [
    "import re\n",
    "\n",
    "text = \"國立臺灣大學\"\n",
    "\n",
    "# 使用正则表达式判断是否存在繁体字\n",
    "if re.search('[\\u4e00-\\u9fa5]+', text):\n",
    "    print(\"包含繁体字\")\n",
    "else:\n",
    "    print(\"不包含繁体字\")"
   ],
   "metadata": {
    "collapsed": false,
    "ExecuteTime": {
     "end_time": "2023-07-05T10:09:14.388422Z",
     "start_time": "2023-07-05T10:09:14.377444100Z"
    }
   }
  },
  {
   "cell_type": "code",
   "execution_count": null,
   "outputs": [],
   "source": [],
   "metadata": {
    "collapsed": false
   }
  }
 ],
 "metadata": {
  "kernelspec": {
   "display_name": "Python 3",
   "language": "python",
   "name": "python3"
  },
  "language_info": {
   "codemirror_mode": {
    "name": "ipython",
    "version": 2
   },
   "file_extension": ".py",
   "mimetype": "text/x-python",
   "name": "python",
   "nbconvert_exporter": "python",
   "pygments_lexer": "ipython2",
   "version": "2.7.6"
  }
 },
 "nbformat": 4,
 "nbformat_minor": 0
}
