{
 "cells": [
  {
   "cell_type": "markdown",
   "source": [],
   "metadata": {
    "collapsed": false
   }
  },
  {
   "cell_type": "code",
   "execution_count": 1,
   "metadata": {
    "collapsed": true,
    "ExecuteTime": {
     "end_time": "2023-07-04T09:09:38.065341400Z",
     "start_time": "2023-07-04T09:09:36.828573800Z"
    }
   },
   "outputs": [
    {
     "name": "stdout",
     "output_type": "stream",
     "text": [
      "('en', -23.719746112823486)\n"
     ]
    }
   ],
   "source": [
    "import langid\n",
    "stringA = 'Hello word'\n",
    "result = langid.classify(stringA)\n",
    "print(result)"
   ]
  },
  {
   "cell_type": "code",
   "execution_count": 2,
   "outputs": [
    {
     "name": "stdout",
     "output_type": "stream",
     "text": [
      "('zh', -47.4393470287323)\n"
     ]
    }
   ],
   "source": [
    "import langid\n",
    "stringA = 'hi你好，哈哈'\n",
    "result = langid.classify(stringA)\n",
    "print(result)"
   ],
   "metadata": {
    "collapsed": false,
    "ExecuteTime": {
     "end_time": "2023-07-04T09:10:44.771950700Z",
     "start_time": "2023-07-04T09:10:44.738528900Z"
    }
   }
  },
  {
   "cell_type": "code",
   "execution_count": 3,
   "outputs": [
    {
     "name": "stdout",
     "output_type": "stream",
     "text": [
      "('ru', -351.1102752685547)\n"
     ]
    }
   ],
   "source": [
    "import langid\n",
    "stringA = 'Камалов Армаис Альбертович'\n",
    "result = langid.classify(stringA)\n",
    "print(result)"
   ],
   "metadata": {
    "collapsed": false,
    "ExecuteTime": {
     "end_time": "2023-07-04T09:11:08.403153300Z",
     "start_time": "2023-07-04T09:11:08.353418600Z"
    }
   }
  },
  {
   "cell_type": "code",
   "execution_count": 4,
   "outputs": [
    {
     "name": "stdout",
     "output_type": "stream",
     "text": [
      "('ru', -458.05760431289673)\n"
     ]
    }
   ],
   "source": [
    "import langid\n",
    "stringA = 'hi你好，哈哈Камалов Армаис Альбертович'\n",
    "result = langid.classify(stringA)\n",
    "print(result)"
   ],
   "metadata": {
    "collapsed": false,
    "ExecuteTime": {
     "end_time": "2023-07-04T09:12:36.523075Z",
     "start_time": "2023-07-04T09:12:36.489164100Z"
    }
   }
  },
  {
   "cell_type": "code",
   "execution_count": 5,
   "outputs": [],
   "source": [
    "def lang_detect(text):\n",
    "    return langid.classify(text)[0]"
   ],
   "metadata": {
    "collapsed": false,
    "ExecuteTime": {
     "end_time": "2023-07-04T09:12:53.551315600Z",
     "start_time": "2023-07-04T09:12:53.547314700Z"
    }
   }
  },
  {
   "cell_type": "code",
   "execution_count": 6,
   "outputs": [
    {
     "data": {
      "text/plain": "'ru'"
     },
     "execution_count": 6,
     "metadata": {},
     "output_type": "execute_result"
    }
   ],
   "source": [
    "lang_detect('Камалов Армаис Альбертович')"
   ],
   "metadata": {
    "collapsed": false,
    "ExecuteTime": {
     "end_time": "2023-07-04T09:13:03.646983400Z",
     "start_time": "2023-07-04T09:13:03.629869900Z"
    }
   }
  },
  {
   "cell_type": "code",
   "execution_count": 8,
   "outputs": [
    {
     "data": {
      "text/plain": "'zh'"
     },
     "execution_count": 8,
     "metadata": {},
     "output_type": "execute_result"
    }
   ],
   "source": [
    "lang_detect('妳好呀呀呀')  # 无法区分繁中"
   ],
   "metadata": {
    "collapsed": false,
    "ExecuteTime": {
     "end_time": "2023-07-04T09:20:14.276614900Z",
     "start_time": "2023-07-04T09:20:14.257256400Z"
    }
   }
  },
  {
   "cell_type": "code",
   "execution_count": 9,
   "outputs": [],
   "source": [
    "import config"
   ],
   "metadata": {
    "collapsed": false,
    "ExecuteTime": {
     "end_time": "2023-07-04T09:33:41.834657600Z",
     "start_time": "2023-07-04T09:33:41.825832500Z"
    }
   }
  },
  {
   "cell_type": "code",
   "execution_count": 13,
   "outputs": [
    {
     "data": {
      "text/plain": "'xxx'"
     },
     "execution_count": 13,
     "metadata": {},
     "output_type": "execute_result"
    }
   ],
   "source": [
    "config.TAG_LANG_MAPPING['publications'].get('ru','xxx')"
   ],
   "metadata": {
    "collapsed": false,
    "ExecuteTime": {
     "end_time": "2023-07-04T09:34:26.174407200Z",
     "start_time": "2023-07-04T09:34:26.152899400Z"
    }
   }
  },
  {
   "cell_type": "code",
   "execution_count": 1,
   "outputs": [
    {
     "name": "stdout",
     "output_type": "stream",
     "text": [
      "('he', -35.358752965927124)\n"
     ]
    }
   ],
   "source": [
    "import langid\n",
    "stringA = 'ניסיון אקדמי'\n",
    "result = langid.classify(stringA)\n",
    "print(result)"
   ],
   "metadata": {
    "collapsed": false,
    "ExecuteTime": {
     "end_time": "2023-07-05T07:42:29.485681Z",
     "start_time": "2023-07-05T07:42:28.345800100Z"
    }
   }
  },
  {
   "cell_type": "code",
   "execution_count": 2,
   "outputs": [
    {
     "name": "stdout",
     "output_type": "stream",
     "text": [
      "('ar', -19.862911701202393)\n"
     ]
    }
   ],
   "source": [
    "import langid\n",
    "stringA = 'سجل'\n",
    "result = langid.classify(stringA)\n",
    "print(result)"
   ],
   "metadata": {
    "collapsed": false,
    "ExecuteTime": {
     "end_time": "2023-07-05T07:43:16.038354500Z",
     "start_time": "2023-07-05T07:43:16.006339400Z"
    }
   }
  },
  {
   "cell_type": "code",
   "execution_count": 3,
   "outputs": [
    {
     "name": "stdout",
     "output_type": "stream",
     "text": [
      "('zh', -259.93311858177185)\n"
     ]
    }
   ],
   "source": [
    "import langid\n",
    "stringA = \"\"\"\n",
    "English Name/英文名SHIH-JUNG CHENG\n",
    "全名鄭世榮\n",
    "Subdivision/科部組別Division of Oral and Maxillofacial Surgery\n",
    " Tel+886-2-2312-3456 #67509\n",
    "Emailsjcheng56@ntu.edu.tw\n",
    "\"\"\"\n",
    "result = langid.classify(stringA)\n",
    "print(result)"
   ],
   "metadata": {
    "collapsed": false,
    "ExecuteTime": {
     "end_time": "2023-07-05T08:20:48.825299400Z",
     "start_time": "2023-07-05T08:20:48.808299Z"
    }
   }
  },
  {
   "cell_type": "markdown",
   "source": [
    "Python模块学习：langdetect - 知乎\n",
    "https://zhuanlan.zhihu.com/p/34246546"
   ],
   "metadata": {
    "collapsed": false
   }
  },
  {
   "cell_type": "code",
   "execution_count": 1,
   "outputs": [
    {
     "data": {
      "text/plain": "'en'"
     },
     "execution_count": 1,
     "metadata": {},
     "output_type": "execute_result"
    }
   ],
   "source": [
    "from langdetect import detect\n",
    "detect(\"War doesn't show who's right, just who's left.\")"
   ],
   "metadata": {
    "collapsed": false,
    "ExecuteTime": {
     "end_time": "2023-07-07T07:00:31.824270300Z",
     "start_time": "2023-07-07T07:00:31.653885200Z"
    }
   }
  },
  {
   "cell_type": "code",
   "execution_count": 3,
   "outputs": [
    {
     "data": {
      "text/plain": "'ko'"
     },
     "execution_count": 3,
     "metadata": {},
     "output_type": "execute_result"
    }
   ],
   "source": [
    "detect('''\n",
    "全名鄭世榮\n",
    "''')"
   ],
   "metadata": {
    "collapsed": false,
    "ExecuteTime": {
     "end_time": "2023-07-07T07:01:18.770875700Z",
     "start_time": "2023-07-07T07:01:18.757786900Z"
    }
   }
  },
  {
   "cell_type": "markdown",
   "source": [
    "Mediapipe Tasks API 及其在项目中的实现 - 实时互动网\n",
    "https://www.nxrte.com/jishu/22991.html\n",
    "语种检测 - 香家小叽 - 博客园\n",
    "https://www.cnblogs.com/zhiyixue/p/17476830.html"
   ],
   "metadata": {
    "collapsed": false
   }
  },
  {
   "cell_type": "markdown",
   "source": [
    "pip install flatbuffers==2.0.0\n",
    "pip install mediapipe==0.9.1"
   ],
   "metadata": {
    "collapsed": false
   }
  },
  {
   "cell_type": "markdown",
   "source": [
    "https://storage.googleapis.com/mediapipe-assets/language_detector.tflite"
   ],
   "metadata": {
    "collapsed": false
   }
  },
  {
   "cell_type": "code",
   "execution_count": 1,
   "outputs": [
    {
     "ename": "RuntimeError",
     "evalue": "ValidatedGraphConfig Initialization failed.\nNo registered object with name: mediapipe::tasks::text::text_classifier::TextClassifierGraph; Unable to find Calculator \"mediapipe.tasks.text.text_classifier.TextClassifierGraph\"",
     "output_type": "error",
     "traceback": [
      "\u001B[1;31m---------------------------------------------------------------------------\u001B[0m",
      "\u001B[1;31mRuntimeError\u001B[0m                              Traceback (most recent call last)",
      "Cell \u001B[1;32mIn[1], line 8\u001B[0m\n\u001B[0;32m      6\u001B[0m base_options \u001B[38;5;241m=\u001B[39m python\u001B[38;5;241m.\u001B[39mBaseOptions(model_asset_path\u001B[38;5;241m=\u001B[39mmodel_path)\n\u001B[0;32m      7\u001B[0m options \u001B[38;5;241m=\u001B[39m text\u001B[38;5;241m.\u001B[39mLanguageDetectorOptions(base_options\u001B[38;5;241m=\u001B[39mbase_options)\n\u001B[1;32m----> 8\u001B[0m detector \u001B[38;5;241m=\u001B[39m \u001B[43mtext\u001B[49m\u001B[38;5;241;43m.\u001B[39;49m\u001B[43mLanguageDetector\u001B[49m\u001B[38;5;241;43m.\u001B[39;49m\u001B[43mcreate_from_options\u001B[49m\u001B[43m(\u001B[49m\u001B[43moptions\u001B[49m\u001B[43m)\u001B[49m\n\u001B[0;32m     10\u001B[0m \u001B[38;5;66;03m# STEP 3: Get the language detcetion result for the input text.\u001B[39;00m\n\u001B[0;32m     11\u001B[0m item \u001B[38;5;241m=\u001B[39m \u001B[38;5;124m\"\u001B[39m\u001B[38;5;124m你好\u001B[39m\u001B[38;5;124m\"\u001B[39m\n",
      "File \u001B[1;32mD:\\temp\\py_venv\\sqa_chat\\lib\\site-packages\\mediapipe\\tasks\\python\\text\\language_detector.py:192\u001B[0m, in \u001B[0;36mLanguageDetector.create_from_options\u001B[1;34m(cls, options)\u001B[0m\n\u001B[0;32m    171\u001B[0m \u001B[38;5;250m\u001B[39m\u001B[38;5;124;03m\"\"\"Creates the `LanguageDetector` object from language detector options.\u001B[39;00m\n\u001B[0;32m    172\u001B[0m \n\u001B[0;32m    173\u001B[0m \u001B[38;5;124;03mArgs:\u001B[39;00m\n\u001B[1;32m   (...)\u001B[0m\n\u001B[0;32m    182\u001B[0m \u001B[38;5;124;03m  RuntimeError: If other types of error occurred.\u001B[39;00m\n\u001B[0;32m    183\u001B[0m \u001B[38;5;124;03m\"\"\"\u001B[39;00m\n\u001B[0;32m    184\u001B[0m task_info \u001B[38;5;241m=\u001B[39m _TaskInfo(\n\u001B[0;32m    185\u001B[0m     task_graph\u001B[38;5;241m=\u001B[39m_TASK_GRAPH_NAME,\n\u001B[0;32m    186\u001B[0m     input_streams\u001B[38;5;241m=\u001B[39m[\u001B[38;5;124m'\u001B[39m\u001B[38;5;124m:\u001B[39m\u001B[38;5;124m'\u001B[39m\u001B[38;5;241m.\u001B[39mjoin([_TEXT_TAG, _TEXT_IN_STREAM_NAME])],\n\u001B[1;32m   (...)\u001B[0m\n\u001B[0;32m    190\u001B[0m     task_options\u001B[38;5;241m=\u001B[39moptions,\n\u001B[0;32m    191\u001B[0m )\n\u001B[1;32m--> 192\u001B[0m \u001B[38;5;28;01mreturn\u001B[39;00m \u001B[38;5;28;43mcls\u001B[39;49m\u001B[43m(\u001B[49m\u001B[43mtask_info\u001B[49m\u001B[38;5;241;43m.\u001B[39;49m\u001B[43mgenerate_graph_config\u001B[49m\u001B[43m(\u001B[49m\u001B[43m)\u001B[49m\u001B[43m)\u001B[49m\n",
      "File \u001B[1;32mD:\\temp\\py_venv\\sqa_chat\\lib\\site-packages\\mediapipe\\tasks\\python\\text\\core\\base_text_task_api.py:34\u001B[0m, in \u001B[0;36mBaseTextTaskApi.__init__\u001B[1;34m(self, graph_config)\u001B[0m\n\u001B[0;32m     27\u001B[0m \u001B[38;5;28;01mdef\u001B[39;00m \u001B[38;5;21m__init__\u001B[39m(\u001B[38;5;28mself\u001B[39m,\n\u001B[0;32m     28\u001B[0m              graph_config: calculator_pb2\u001B[38;5;241m.\u001B[39mCalculatorGraphConfig) \u001B[38;5;241m-\u001B[39m\u001B[38;5;241m>\u001B[39m \u001B[38;5;28;01mNone\u001B[39;00m:\n\u001B[0;32m     29\u001B[0m \u001B[38;5;250m  \u001B[39m\u001B[38;5;124;03m\"\"\"Initializes the `BaseVisionTaskApi` object.\u001B[39;00m\n\u001B[0;32m     30\u001B[0m \n\u001B[0;32m     31\u001B[0m \u001B[38;5;124;03m  Args:\u001B[39;00m\n\u001B[0;32m     32\u001B[0m \u001B[38;5;124;03m    graph_config: The mediapipe text task graph config proto.\u001B[39;00m\n\u001B[0;32m     33\u001B[0m \u001B[38;5;124;03m  \"\"\"\u001B[39;00m\n\u001B[1;32m---> 34\u001B[0m   \u001B[38;5;28mself\u001B[39m\u001B[38;5;241m.\u001B[39m_runner \u001B[38;5;241m=\u001B[39m \u001B[43m_TaskRunner\u001B[49m\u001B[38;5;241;43m.\u001B[39;49m\u001B[43mcreate\u001B[49m\u001B[43m(\u001B[49m\u001B[43mgraph_config\u001B[49m\u001B[43m)\u001B[49m\n",
      "\u001B[1;31mRuntimeError\u001B[0m: ValidatedGraphConfig Initialization failed.\nNo registered object with name: mediapipe::tasks::text::text_classifier::TextClassifierGraph; Unable to find Calculator \"mediapipe.tasks.text.text_classifier.TextClassifierGraph\""
     ]
    }
   ],
   "source": [
    "import mediapipe as mp\n",
    "from mediapipe.tasks import python\n",
    "from mediapipe.tasks.python import text\n",
    "\n",
    "model_path = './data/language_detector.tflite'\n",
    "base_options = python.BaseOptions(model_asset_path=model_path)\n",
    "options = text.LanguageDetectorOptions(base_options=base_options)\n",
    "detector = text.LanguageDetector.create_from_options(options)\n",
    "\n",
    "# STEP 3: Get the language detcetion result for the input text.\n",
    "item = \"你好\"\n",
    "detection_result = detector.detect(item)\n",
    "detection_result"
   ],
   "metadata": {
    "collapsed": false,
    "ExecuteTime": {
     "end_time": "2023-07-07T07:32:20.948241900Z",
     "start_time": "2023-07-07T07:32:20.260042400Z"
    }
   }
  },
  {
   "cell_type": "code",
   "execution_count": 2,
   "outputs": [
    {
     "ename": "NameError",
     "evalue": "name 'langid' is not defined",
     "output_type": "error",
     "traceback": [
      "\u001B[1;31m---------------------------------------------------------------------------\u001B[0m",
      "\u001B[1;31mNameError\u001B[0m                                 Traceback (most recent call last)",
      "Cell \u001B[1;32mIn[2], line 1\u001B[0m\n\u001B[1;32m----> 1\u001B[0m \u001B[43mlangid\u001B[49m\u001B[38;5;241m.\u001B[39mclassify(text)[\u001B[38;5;241m0\u001B[39m]\n",
      "\u001B[1;31mNameError\u001B[0m: name 'langid' is not defined"
     ]
    }
   ],
   "source": [
    "langid.classify(text)[0]"
   ],
   "metadata": {
    "collapsed": false,
    "ExecuteTime": {
     "end_time": "2023-07-07T07:37:03.817765100Z",
     "start_time": "2023-07-07T07:37:03.770040600Z"
    }
   }
  },
  {
   "cell_type": "code",
   "execution_count": 3,
   "outputs": [],
   "source": [
    "import langid"
   ],
   "metadata": {
    "collapsed": false,
    "ExecuteTime": {
     "end_time": "2023-07-07T07:37:09.007447700Z",
     "start_time": "2023-07-07T07:37:08.994449300Z"
    }
   }
  },
  {
   "cell_type": "code",
   "execution_count": 6,
   "outputs": [
    {
     "data": {
      "text/plain": "('zh', -259.93311858177185)"
     },
     "execution_count": 6,
     "metadata": {},
     "output_type": "execute_result"
    }
   ],
   "source": [
    "stringA = \"\"\"\n",
    "English Name/英文名SHIH-JUNG CHENG\n",
    "全名鄭世榮\n",
    "Subdivision/科部組別Division of Oral and Maxillofacial Surgery\n",
    " Tel+886-2-2312-3456 #67509\n",
    "Emailsjcheng56@ntu.edu.tw\n",
    "\"\"\"\n",
    "langid.classify(stringA)\n"
   ],
   "metadata": {
    "collapsed": false,
    "ExecuteTime": {
     "end_time": "2023-07-07T07:38:04.446608500Z",
     "start_time": "2023-07-07T07:38:04.426609Z"
    }
   }
  },
  {
   "cell_type": "code",
   "execution_count": 7,
   "outputs": [
    {
     "data": {
      "text/plain": "('en', 9.061840057373047)"
     },
     "execution_count": 7,
     "metadata": {},
     "output_type": "execute_result"
    }
   ],
   "source": [
    "langid.classify(stringA[:5])"
   ],
   "metadata": {
    "collapsed": false,
    "ExecuteTime": {
     "end_time": "2023-07-07T07:38:29.481054800Z",
     "start_time": "2023-07-07T07:38:29.477055300Z"
    }
   }
  },
  {
   "cell_type": "code",
   "execution_count": 8,
   "outputs": [
    {
     "data": {
      "text/plain": "('zh', -233.93670916557312)"
     },
     "execution_count": 8,
     "metadata": {},
     "output_type": "execute_result"
    }
   ],
   "source": [
    "langid.classify(stringA[:100])"
   ],
   "metadata": {
    "collapsed": false,
    "ExecuteTime": {
     "end_time": "2023-07-07T07:38:41.379274800Z",
     "start_time": "2023-07-07T07:38:41.374275500Z"
    }
   }
  },
  {
   "cell_type": "code",
   "execution_count": null,
   "outputs": [],
   "source": [],
   "metadata": {
    "collapsed": false
   }
  }
 ],
 "metadata": {
  "kernelspec": {
   "display_name": "Python 3",
   "language": "python",
   "name": "python3"
  },
  "language_info": {
   "codemirror_mode": {
    "name": "ipython",
    "version": 2
   },
   "file_extension": ".py",
   "mimetype": "text/x-python",
   "name": "python",
   "nbconvert_exporter": "python",
   "pygments_lexer": "ipython2",
   "version": "2.7.6"
  }
 },
 "nbformat": 4,
 "nbformat_minor": 0
}
