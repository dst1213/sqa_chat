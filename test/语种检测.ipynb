{
 "cells": [
  {
   "cell_type": "markdown",
   "source": [],
   "metadata": {
    "collapsed": false
   }
  },
  {
   "cell_type": "code",
   "execution_count": 1,
   "metadata": {
    "collapsed": true,
    "ExecuteTime": {
     "end_time": "2023-07-04T09:09:38.065341400Z",
     "start_time": "2023-07-04T09:09:36.828573800Z"
    }
   },
   "outputs": [
    {
     "name": "stdout",
     "output_type": "stream",
     "text": [
      "('en', -23.719746112823486)\n"
     ]
    }
   ],
   "source": [
    "import langid\n",
    "stringA = 'Hello word'\n",
    "result = langid.classify(stringA)\n",
    "print(result)"
   ]
  },
  {
   "cell_type": "code",
   "execution_count": 2,
   "outputs": [
    {
     "name": "stdout",
     "output_type": "stream",
     "text": [
      "('zh', -47.4393470287323)\n"
     ]
    }
   ],
   "source": [
    "import langid\n",
    "stringA = 'hi你好，哈哈'\n",
    "result = langid.classify(stringA)\n",
    "print(result)"
   ],
   "metadata": {
    "collapsed": false,
    "ExecuteTime": {
     "end_time": "2023-07-04T09:10:44.771950700Z",
     "start_time": "2023-07-04T09:10:44.738528900Z"
    }
   }
  },
  {
   "cell_type": "code",
   "execution_count": 3,
   "outputs": [
    {
     "name": "stdout",
     "output_type": "stream",
     "text": [
      "('ru', -351.1102752685547)\n"
     ]
    }
   ],
   "source": [
    "import langid\n",
    "stringA = 'Камалов Армаис Альбертович'\n",
    "result = langid.classify(stringA)\n",
    "print(result)"
   ],
   "metadata": {
    "collapsed": false,
    "ExecuteTime": {
     "end_time": "2023-07-04T09:11:08.403153300Z",
     "start_time": "2023-07-04T09:11:08.353418600Z"
    }
   }
  },
  {
   "cell_type": "code",
   "execution_count": 4,
   "outputs": [
    {
     "name": "stdout",
     "output_type": "stream",
     "text": [
      "('ru', -458.05760431289673)\n"
     ]
    }
   ],
   "source": [
    "import langid\n",
    "stringA = 'hi你好，哈哈Камалов Армаис Альбертович'\n",
    "result = langid.classify(stringA)\n",
    "print(result)"
   ],
   "metadata": {
    "collapsed": false,
    "ExecuteTime": {
     "end_time": "2023-07-04T09:12:36.523075Z",
     "start_time": "2023-07-04T09:12:36.489164100Z"
    }
   }
  },
  {
   "cell_type": "code",
   "execution_count": 5,
   "outputs": [],
   "source": [
    "def lang_detect(text):\n",
    "    return langid.classify(text)[0]"
   ],
   "metadata": {
    "collapsed": false,
    "ExecuteTime": {
     "end_time": "2023-07-04T09:12:53.551315600Z",
     "start_time": "2023-07-04T09:12:53.547314700Z"
    }
   }
  },
  {
   "cell_type": "code",
   "execution_count": 6,
   "outputs": [
    {
     "data": {
      "text/plain": "'ru'"
     },
     "execution_count": 6,
     "metadata": {},
     "output_type": "execute_result"
    }
   ],
   "source": [
    "lang_detect('Камалов Армаис Альбертович')"
   ],
   "metadata": {
    "collapsed": false,
    "ExecuteTime": {
     "end_time": "2023-07-04T09:13:03.646983400Z",
     "start_time": "2023-07-04T09:13:03.629869900Z"
    }
   }
  },
  {
   "cell_type": "code",
   "execution_count": 8,
   "outputs": [
    {
     "data": {
      "text/plain": "'zh'"
     },
     "execution_count": 8,
     "metadata": {},
     "output_type": "execute_result"
    }
   ],
   "source": [
    "lang_detect('妳好呀呀呀')  # 无法区分繁中"
   ],
   "metadata": {
    "collapsed": false,
    "ExecuteTime": {
     "end_time": "2023-07-04T09:20:14.276614900Z",
     "start_time": "2023-07-04T09:20:14.257256400Z"
    }
   }
  },
  {
   "cell_type": "code",
   "execution_count": 9,
   "outputs": [],
   "source": [
    "import config"
   ],
   "metadata": {
    "collapsed": false,
    "ExecuteTime": {
     "end_time": "2023-07-04T09:33:41.834657600Z",
     "start_time": "2023-07-04T09:33:41.825832500Z"
    }
   }
  },
  {
   "cell_type": "code",
   "execution_count": 13,
   "outputs": [
    {
     "data": {
      "text/plain": "'xxx'"
     },
     "execution_count": 13,
     "metadata": {},
     "output_type": "execute_result"
    }
   ],
   "source": [
    "config.TAG_LANG_MAPPING['publications'].get('ru','xxx')"
   ],
   "metadata": {
    "collapsed": false,
    "ExecuteTime": {
     "end_time": "2023-07-04T09:34:26.174407200Z",
     "start_time": "2023-07-04T09:34:26.152899400Z"
    }
   }
  },
  {
   "cell_type": "code",
   "execution_count": 1,
   "outputs": [
    {
     "name": "stdout",
     "output_type": "stream",
     "text": [
      "('he', -35.358752965927124)\n"
     ]
    }
   ],
   "source": [
    "import langid\n",
    "stringA = 'ניסיון אקדמי'\n",
    "result = langid.classify(stringA)\n",
    "print(result)"
   ],
   "metadata": {
    "collapsed": false,
    "ExecuteTime": {
     "end_time": "2023-07-05T07:42:29.485681Z",
     "start_time": "2023-07-05T07:42:28.345800100Z"
    }
   }
  },
  {
   "cell_type": "code",
   "execution_count": 2,
   "outputs": [
    {
     "name": "stdout",
     "output_type": "stream",
     "text": [
      "('ar', -19.862911701202393)\n"
     ]
    }
   ],
   "source": [
    "import langid\n",
    "stringA = 'سجل'\n",
    "result = langid.classify(stringA)\n",
    "print(result)"
   ],
   "metadata": {
    "collapsed": false,
    "ExecuteTime": {
     "end_time": "2023-07-05T07:43:16.038354500Z",
     "start_time": "2023-07-05T07:43:16.006339400Z"
    }
   }
  },
  {
   "cell_type": "code",
   "execution_count": 3,
   "outputs": [
    {
     "name": "stdout",
     "output_type": "stream",
     "text": [
      "('zh', -259.93311858177185)\n"
     ]
    }
   ],
   "source": [
    "import langid\n",
    "stringA = \"\"\"\n",
    "English Name/英文名SHIH-JUNG CHENG\n",
    "全名鄭世榮\n",
    "Subdivision/科部組別Division of Oral and Maxillofacial Surgery\n",
    " Tel+886-2-2312-3456 #67509\n",
    "Emailsjcheng56@ntu.edu.tw\n",
    "\"\"\"\n",
    "result = langid.classify(stringA)\n",
    "print(result)"
   ],
   "metadata": {
    "collapsed": false,
    "ExecuteTime": {
     "end_time": "2023-07-05T08:20:48.825299400Z",
     "start_time": "2023-07-05T08:20:48.808299Z"
    }
   }
  },
  {
   "cell_type": "code",
   "execution_count": null,
   "outputs": [],
   "source": [],
   "metadata": {
    "collapsed": false
   }
  }
 ],
 "metadata": {
  "kernelspec": {
   "display_name": "Python 3",
   "language": "python",
   "name": "python3"
  },
  "language_info": {
   "codemirror_mode": {
    "name": "ipython",
    "version": 2
   },
   "file_extension": ".py",
   "mimetype": "text/x-python",
   "name": "python",
   "nbconvert_exporter": "python",
   "pygments_lexer": "ipython2",
   "version": "2.7.6"
  }
 },
 "nbformat": 4,
 "nbformat_minor": 0
}
